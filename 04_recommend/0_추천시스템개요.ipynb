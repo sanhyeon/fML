{
 "cells": [
  {
   "cell_type": "markdown",
   "id": "c980e824",
   "metadata": {},
   "source": [
    "\n",
    "## 추천 시스템의 유형\n",
    "\n",
    "- 콘텐츠 기반 필터링 방식 ( Content based filtering )\n",
    "\n",
    "- 협업 기반 필터링 방식 ( Collaborative based filtering )\n",
    "\n",
    "    - 최근접이웃 협업 필터링 ( Nearest Neighbor ) : ex) 아마존\n",
    "    - 잠재요인 협업 필터링 ( Latent Factor ) : ex)  넥플릭스\n",
    "    \n",
    "\n",
    " 초창기에는 콘텐츠 기반 필터링이나 최근접 이웃 기반 협업 필터링이 주로 사용\n",
    " \n",
    " 넥플릭스 추천 경진 대회에서 잠재요인 협업 필터링 방식이 우승하면서 사용\n",
    " \n",
    " 최근에는 개인화 특성을 강화하기 위해 하이브리드 형식으로 콘텐츠 기반과 협업 기반을 적절히 결합\n",
    " \n",
    " "
   ]
  },
  {
   "cell_type": "markdown",
   "id": "7cb71063",
   "metadata": {},
   "source": [
    "### 1. 콘텐츠 기반 필터링 방식\n",
    "\n",
    "- 사용자가 특정 아이템을 선호하는 경우, 그 아이템과 비슷한 콘텐츠를 가진 다른 아이템을 추천하는 방식\n",
    "- 사용자가 특정 영화에 높은 평점을 줬다면, 그 영화의 장르, 배우, 영화 키워드 등의 콘텐츠와 유사한 다른 영화를 추천하는 방식\n",
    "\n",
    "\n",
    "### 2-1. 최근접 이웃 협업 필터링 방식\n",
    "\n",
    "- 협업 필터링은 사용자-아이템 평점 행렬 데이타로 추천\n",
    "\n",
    "  ( 축적된 사용자 행동 데이터를 기반으로 사용자가 아직 평가하지 않은 아이템을 예측 평가 하는 것 )\n",
    "  \n",
    "<img src='./imgs/CollaborativeFiltering.png'>"
   ]
  },
  {
   "cell_type": "markdown",
   "id": "798cdaf2",
   "metadata": {},
   "source": [
    "### 2-2. 잠재 요인 협업 필터링 방식\n",
    "\n",
    "- 사용자-아이템 평점 행렬 속에 잠재 요인을 추출하여 추천 예측하는 기법\n",
    "\n",
    "- 행렬 분해에 의해 추출되는 '잠재 요인'이 정확히 어떤 것인지 알 수 없지만, 예를 들어 영화 평점 기반의 사용자-아이템 평점 행렬 데이터라면 영화가 가지는 장르별 특성 선호도로 가정할 수 있다.\n",
    "\n",
    "\n",
    "---\n",
    "---\n",
    "\n",
    "[ 참고도서 ] 파이썬 머신러닝 완벽 가이드"
   ]
  },
  {
   "cell_type": "code",
   "execution_count": null,
   "id": "2984e451",
   "metadata": {},
   "outputs": [],
   "source": []
  },
  {
   "cell_type": "code",
   "execution_count": null,
   "id": "95b85b95",
   "metadata": {},
   "outputs": [],
   "source": []
  },
  {
   "cell_type": "code",
   "execution_count": null,
   "id": "14f0395a",
   "metadata": {},
   "outputs": [],
   "source": []
  }
 ],
 "metadata": {
  "kernelspec": {
   "display_name": "Python 3 (ipykernel)",
   "language": "python",
   "name": "python3"
  },
  "language_info": {
   "codemirror_mode": {
    "name": "ipython",
    "version": 3
   },
   "file_extension": ".py",
   "mimetype": "text/x-python",
   "name": "python",
   "nbconvert_exporter": "python",
   "pygments_lexer": "ipython3",
   "version": "3.9.7"
  }
 },
 "nbformat": 4,
 "nbformat_minor": 5
}
