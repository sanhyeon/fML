{
 "cells": [
  {
   "cell_type": "markdown",
   "metadata": {},
   "source": [
    "칼로리 표를 지정한다면,\n",
    "\n",
    "    초밥      588 kcal\n",
    "    샐러드    118 kcal\n",
    "    마파두부  648 kcal"
   ]
  },
  {
   "cell_type": "code",
   "execution_count": 1,
   "metadata": {},
   "outputs": [],
   "source": [
    "import cnn_model\n",
    "import keras\n",
    "import matplotlib.pyplot as plt\n",
    "import numpy as np\n",
    "from PIL import Image\n",
    "import matplotlib.pyplot as plt\n",
    "\n",
    "# target_image = \"test-sushi.jpg\"\n",
    "\n",
    "im_rows = 32 # 이미지의 높이\n",
    "im_cols = 32 # 이미지의 너비\n",
    "im_color = 3 # 이미지의 색공간\n",
    "in_shape = (im_rows, im_cols, im_color)\n",
    "nb_classes = 5\n",
    "\n",
    "LABELS = [\"피자\", \"짜장면\", \"도넛\",'샐러드','스시']\n",
    "#CALORIES = [588, 118, 648]\n",
    "CALORIES = [\"피자\", \"짜장면\", \"도넛\",'샐러드','스시']\n",
    "# 저장한 CNN 모델 읽어 들이기\n",
    "model = cnn_model.get_model(in_shape, nb_classes)\n",
    "model.load_weights('./image/photos-model.hdf5')\n",
    "\n",
    "def check_photo(path):\n",
    "    # 이미지 읽어 들이기\n",
    "    img = Image.open(path)\n",
    "    img = img.convert(\"RGB\") # 색공간 변환하기\n",
    "    img = img.resize((im_cols, im_rows)) # 크기 변경하기\n",
    "    plt.imshow(img)\n",
    "    plt.show()\n",
    "    # 데이터 변환하기\n",
    "    x = np.asarray(img)\n",
    "    x = x.reshape(-1, im_rows, im_cols, im_color)\n",
    "    x = x / 255\n",
    "\n",
    "    # 예측하기\n",
    "    pre = model.predict([x])[0]\n",
    "    idx = pre.argmax()\n",
    "    per = int(pre[idx] * 100)\n",
    "    return (idx, per)\n",
    "\n",
    "def check_photo_str(path):\n",
    "    idx, per = check_photo(path)\n",
    "    # 응답하기\n",
    "    print(\"이 사진은\", LABELS[idx], \"로(으로), 칼로리는\", CALORIES[idx],\"kcal입니다.\")\n",
    "    print(\"가능성은\", per, \"%\")\n"
   ]
  },
  {
   "cell_type": "code",
   "execution_count": 2,
   "metadata": {},
   "outputs": [
    {
     "data": {
      "image/png": "[encoded data removed]",
      "text/plain": [
       "<Figure size 432x288 with 1 Axes>"
      ]
     },
     "metadata": {
      "needs_background": "light"
     },
     "output_type": "display_data"
    },
    {
     "name": "stdout",
     "output_type": "stream",
     "text": [
      "이 사진은 피자 로(으로), 칼로리는 피자 kcal입니다.\n",
      "가능성은 99 %\n"
     ]
    },
    {
     "data": {
      "image/png": "[encoded data removed]",
      "text/plain": [
       "<Figure size 432x288 with 1 Axes>"
      ]
     },
     "metadata": {
      "needs_background": "light"
     },
     "output_type": "display_data"
    },
    {
     "name": "stdout",
     "output_type": "stream",
     "text": [
      "이 사진은 피자 로(으로), 칼로리는 피자 kcal입니다.\n",
      "가능성은 99 %\n"
     ]
    }
   ],
   "source": [
    "# 직접 찍은 사진\n",
    "check_photo_str('./image/피자4.jpg')\n",
    "check_photo_str('./image/test-sushi.jpg')"
   ]
  },
  {
   "cell_type": "markdown",
   "metadata": {},
   "source": [
    "결과가 달라진다면 범용적으로 더 많은 사진을 학습하고 사진 데이타의 품질이 좋아야 합니다."
   ]
  },
  {
   "cell_type": "code",
   "execution_count": null,
   "metadata": {},
   "outputs": [],
   "source": []
  }
 ],
 "metadata": {
  "kernelspec": {
   "display_name": "Python 3",
   "language": "python",
   "name": "python3"
  },
  "language_info": {
   "codemirror_mode": {
    "name": "ipython",
    "version": 3
   },
   "file_extension": ".py",
   "mimetype": "text/x-python",
   "name": "python",
   "nbconvert_exporter": "python",
   "pygments_lexer": "ipython3",
   "version": "3.7.9"
  }
 },
 "nbformat": 4,
 "nbformat_minor": 2
}
