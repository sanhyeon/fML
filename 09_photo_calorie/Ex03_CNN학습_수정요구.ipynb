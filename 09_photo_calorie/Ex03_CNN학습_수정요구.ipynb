{
 "cells": [
  {
   "cell_type": "markdown",
   "metadata": {},
   "source": [
    "cnn_model.py 파일에 함수를 선언하고 호출하는 방식으로 진행"
   ]
  },
  {
   "cell_type": "code",
   "execution_count": 6,
   "metadata": {
    "scrolled": true
   },
   "outputs": [
    {
     "name": "stdout",
     "output_type": "stream",
     "text": [
      "Requirement already satisfied: tensorflow in c:\\users\\simmi\\anaconda3\\envs\\tf\\lib\\site-packages (2.1.0)\n",
      "Requirement already satisfied: keras-preprocessing>=1.1.0 in c:\\users\\simmi\\anaconda3\\envs\\tf\\lib\\site-packages (from tensorflow) (1.1.0)\n",
      "Requirement already satisfied: numpy<2.0,>=1.16.0 in c:\\users\\simmi\\anaconda3\\envs\\tf\\lib\\site-packages (from tensorflow) (1.18.5)\n",
      "Requirement already satisfied: absl-py>=0.7.0 in c:\\users\\simmi\\anaconda3\\envs\\tf\\lib\\site-packages (from tensorflow) (0.9.0)\n",
      "Requirement already satisfied: scipy==1.4.1; python_version >= \"3\" in c:\\users\\simmi\\anaconda3\\envs\\tf\\lib\\site-packages (from tensorflow) (1.4.1)\n",
      "Requirement already satisfied: keras-applications>=1.0.8 in c:\\users\\simmi\\anaconda3\\envs\\tf\\lib\\site-packages (from tensorflow) (1.0.8)\n",
      "Requirement already satisfied: six>=1.12.0 in c:\\users\\simmi\\anaconda3\\envs\\tf\\lib\\site-packages (from tensorflow) (1.15.0)\n",
      "Requirement already satisfied: astor>=0.6.0 in c:\\users\\simmi\\anaconda3\\envs\\tf\\lib\\site-packages (from tensorflow) (0.8.0)\n",
      "Requirement already satisfied: tensorflow-estimator<2.2.0,>=2.1.0rc0 in c:\\users\\simmi\\anaconda3\\envs\\tf\\lib\\site-packages (from tensorflow) (2.1.0)\n",
      "Requirement already satisfied: wrapt>=1.11.1 in c:\\users\\simmi\\anaconda3\\envs\\tf\\lib\\site-packages (from tensorflow) (1.12.1)\n",
      "Requirement already satisfied: protobuf>=3.8.0 in c:\\users\\simmi\\anaconda3\\envs\\tf\\lib\\site-packages (from tensorflow) (3.12.3)\n",
      "Requirement already satisfied: termcolor>=1.1.0 in c:\\users\\simmi\\anaconda3\\envs\\tf\\lib\\site-packages (from tensorflow) (1.1.0)\n",
      "Requirement already satisfied: grpcio>=1.8.6 in c:\\users\\simmi\\anaconda3\\envs\\tf\\lib\\site-packages (from tensorflow) (1.27.2)\n",
      "Collecting tensorboard<2.2.0,>=2.1.0\n",
      "  Using cached tensorboard-2.1.1-py3-none-any.whl (3.8 MB)\n",
      "Requirement already satisfied: opt-einsum>=2.3.2 in c:\\users\\simmi\\anaconda3\\envs\\tf\\lib\\site-packages (from tensorflow) (3.1.0)\n",
      "Requirement already satisfied: wheel>=0.26; python_version >= \"3\" in c:\\users\\simmi\\anaconda3\\envs\\tf\\lib\\site-packages (from tensorflow) (0.34.2)\n",
      "Requirement already satisfied: gast==0.2.2 in c:\\users\\simmi\\anaconda3\\envs\\tf\\lib\\site-packages (from tensorflow) (0.2.2)\n",
      "Requirement already satisfied: google-pasta>=0.1.6 in c:\\users\\simmi\\anaconda3\\envs\\tf\\lib\\site-packages (from tensorflow) (0.2.0)\n",
      "Requirement already satisfied: h5py in c:\\users\\simmi\\anaconda3\\envs\\tf\\lib\\site-packages (from keras-applications>=1.0.8->tensorflow) (2.10.0)\n",
      "Requirement already satisfied: setuptools in c:\\users\\simmi\\anaconda3\\envs\\tf\\lib\\site-packages (from protobuf>=3.8.0->tensorflow) (49.2.0.post20200714)\n",
      "Requirement already satisfied: google-auth-oauthlib<0.5,>=0.4.1 in c:\\users\\simmi\\anaconda3\\envs\\tf\\lib\\site-packages (from tensorboard<2.2.0,>=2.1.0->tensorflow) (0.4.1)\n",
      "Requirement already satisfied: werkzeug>=0.11.15 in c:\\users\\simmi\\anaconda3\\envs\\tf\\lib\\site-packages (from tensorboard<2.2.0,>=2.1.0->tensorflow) (0.16.1)\n",
      "Requirement already satisfied: markdown>=2.6.8 in c:\\users\\simmi\\anaconda3\\envs\\tf\\lib\\site-packages (from tensorboard<2.2.0,>=2.1.0->tensorflow) (3.1.1)\n",
      "Requirement already satisfied: requests<3,>=2.21.0 in c:\\users\\simmi\\anaconda3\\envs\\tf\\lib\\site-packages (from tensorboard<2.2.0,>=2.1.0->tensorflow) (2.24.0)\n",
      "Requirement already satisfied: google-auth<2,>=1.6.3 in c:\\users\\simmi\\anaconda3\\envs\\tf\\lib\\site-packages (from tensorboard<2.2.0,>=2.1.0->tensorflow) (1.17.2)\n",
      "Requirement already satisfied: requests-oauthlib>=0.7.0 in c:\\users\\simmi\\anaconda3\\envs\\tf\\lib\\site-packages (from google-auth-oauthlib<0.5,>=0.4.1->tensorboard<2.2.0,>=2.1.0->tensorflow) (1.3.0)\n",
      "Requirement already satisfied: idna<3,>=2.5 in c:\\users\\simmi\\anaconda3\\envs\\tf\\lib\\site-packages (from requests<3,>=2.21.0->tensorboard<2.2.0,>=2.1.0->tensorflow) (2.10)\n",
      "Requirement already satisfied: certifi>=2017.4.17 in c:\\users\\simmi\\anaconda3\\envs\\tf\\lib\\site-packages (from requests<3,>=2.21.0->tensorboard<2.2.0,>=2.1.0->tensorflow) (2020.6.20)\n",
      "Requirement already satisfied: chardet<4,>=3.0.2 in c:\\users\\simmi\\anaconda3\\envs\\tf\\lib\\site-packages (from requests<3,>=2.21.0->tensorboard<2.2.0,>=2.1.0->tensorflow) (3.0.4)\n",
      "Requirement already satisfied: urllib3!=1.25.0,!=1.25.1,<1.26,>=1.21.1 in c:\\users\\simmi\\anaconda3\\envs\\tf\\lib\\site-packages (from requests<3,>=2.21.0->tensorboard<2.2.0,>=2.1.0->tensorflow) (1.25.9)\n",
      "Requirement already satisfied: rsa<5,>=3.1.4; python_version >= \"3\" in c:\\users\\simmi\\anaconda3\\envs\\tf\\lib\\site-packages (from google-auth<2,>=1.6.3->tensorboard<2.2.0,>=2.1.0->tensorflow) (4.0)\n",
      "Requirement already satisfied: pyasn1-modules>=0.2.1 in c:\\users\\simmi\\anaconda3\\envs\\tf\\lib\\site-packages (from google-auth<2,>=1.6.3->tensorboard<2.2.0,>=2.1.0->tensorflow) (0.2.7)\n",
      "Requirement already satisfied: cachetools<5.0,>=2.0.0 in c:\\users\\simmi\\anaconda3\\envs\\tf\\lib\\site-packages (from google-auth<2,>=1.6.3->tensorboard<2.2.0,>=2.1.0->tensorflow) (4.1.0)\n",
      "Requirement already satisfied: oauthlib>=3.0.0 in c:\\users\\simmi\\anaconda3\\envs\\tf\\lib\\site-packages (from requests-oauthlib>=0.7.0->google-auth-oauthlib<0.5,>=0.4.1->tensorboard<2.2.0,>=2.1.0->tensorflow) (3.1.0)\n",
      "Requirement already satisfied: pyasn1>=0.1.3 in c:\\users\\simmi\\anaconda3\\envs\\tf\\lib\\site-packages (from rsa<5,>=3.1.4; python_version >= \"3\"->google-auth<2,>=1.6.3->tensorboard<2.2.0,>=2.1.0->tensorflow) (0.4.8)\n",
      "Installing collected packages: tensorboard\n",
      "  Attempting uninstall: tensorboard\n",
      "    Found existing installation: tensorboard 2.2.1\n",
      "    Uninstalling tensorboard-2.2.1:\n",
      "      Successfully uninstalled tensorboard-2.2.1\n",
      "Successfully installed tensorboard-2.1.1\n"
     ]
    }
   ],
   "source": [
    "# Keras requires TensorFlow 2.2 or higher. Install TensorFlow via `pip install tensorflow`\n",
    "\n",
    "#!pip install tensorflow\n",
    "\n",
    "# 도중에 에러가 발생하여 Anaconda Prompt에서 'python3 -m pip install --user keras' 실행 후 다시 '!pip install tensorflow'"
   ]
  },
  {
   "cell_type": "code",
   "execution_count": 2,
   "metadata": {},
   "outputs": [
    {
     "data": {
      "text/plain": [
       "'2.4.0'"
      ]
     },
     "execution_count": 2,
     "metadata": {},
     "output_type": "execute_result"
    }
   ],
   "source": [
    "# import tensorflow as tf\n",
    "# tf.__version__"
   ]
  },
  {
   "cell_type": "code",
   "execution_count": 1,
   "metadata": {},
   "outputs": [
    {
     "name": "stdout",
     "output_type": "stream",
     "text": [
      "Collecting keras\n",
      "  Downloading Keras-2.4.3-py2.py3-none-any.whl (36 kB)\n",
      "Requirement already satisfied: numpy>=1.9.1 in c:\\users\\simmi\\anaconda3\\envs\\tf\\lib\\site-packages (from keras) (1.19.4)\n",
      "Requirement already satisfied: h5py in c:\\users\\simmi\\anaconda3\\envs\\tf\\lib\\site-packages (from keras) (2.10.0)\n",
      "Requirement already satisfied: scipy>=0.14 in c:\\users\\simmi\\anaconda3\\envs\\tf\\lib\\site-packages (from keras) (1.5.2)\n",
      "Requirement already satisfied: six in c:\\users\\simmi\\anaconda3\\envs\\tf\\lib\\site-packages (from h5py->keras) (1.15.0)\n",
      "Collecting pyyaml\n",
      "  Downloading PyYAML-5.3.1-cp37-cp37m-win_amd64.whl (216 kB)\n",
      "Installing collected packages: pyyaml, keras\n",
      "Successfully installed keras-2.4.3 pyyaml-5.3.1\n",
      "Collecting opencv-python\n",
      "  Downloading opencv_python-4.4.0.46-cp37-cp37m-win_amd64.whl (33.5 MB)\n",
      "Requirement already satisfied: numpy>=1.14.5 in c:\\users\\simmi\\anaconda3\\envs\\tf\\lib\\site-packages (from opencv-python) (1.19.4)\n",
      "Installing collected packages: opencv-python\n",
      "Successfully installed opencv-python-4.4.0.46\n"
     ]
    }
   ],
   "source": [
    "# !pip install keras\n",
    "# ! pip install opencv-python"
   ]
  },
  {
   "cell_type": "code",
   "execution_count": 3,
   "metadata": {
    "scrolled": true
   },
   "outputs": [
    {
     "name": "stdout",
     "output_type": "stream",
     "text": [
      "Requirement already satisfied: matplotlib in c:\\users\\simmi\\anaconda3\\envs\\tf\\lib\\site-packages (3.3.2)\n",
      "Requirement already satisfied: kiwisolver>=1.0.1 in c:\\users\\simmi\\anaconda3\\envs\\tf\\lib\\site-packages (from matplotlib) (1.3.0)\n",
      "Requirement already satisfied: python-dateutil>=2.1 in c:\\users\\simmi\\anaconda3\\envs\\tf\\lib\\site-packages (from matplotlib) (2.8.1)\n",
      "Requirement already satisfied: numpy>=1.15 in c:\\users\\simmi\\anaconda3\\envs\\tf\\lib\\site-packages (from matplotlib) (1.19.4)\n",
      "Requirement already satisfied: pillow>=6.2.0 in c:\\users\\simmi\\anaconda3\\envs\\tf\\lib\\site-packages (from matplotlib) (8.0.1)\n",
      "Requirement already satisfied: certifi>=2020.06.20 in c:\\users\\simmi\\anaconda3\\envs\\tf\\lib\\site-packages (from matplotlib) (2020.12.5)\n",
      "Requirement already satisfied: cycler>=0.10 in c:\\users\\simmi\\anaconda3\\envs\\tf\\lib\\site-packages (from matplotlib) (0.10.0)\n",
      "Requirement already satisfied: pyparsing!=2.0.4,!=2.1.2,!=2.1.6,>=2.0.3 in c:\\users\\simmi\\anaconda3\\envs\\tf\\lib\\site-packages (from matplotlib) (2.4.7)\n",
      "Requirement already satisfied: six in c:\\users\\simmi\\anaconda3\\envs\\tf\\lib\\site-packages (from cycler>=0.10->matplotlib) (1.15.0)\n",
      "Collecting sklearn\n",
      "  Downloading sklearn-0.0.tar.gz (1.1 kB)\n",
      "Collecting scikit-learn\n",
      "  Downloading scikit_learn-0.24.0-cp37-cp37m-win_amd64.whl (6.8 MB)\n",
      "Requirement already satisfied: scipy>=0.19.1 in c:\\users\\simmi\\anaconda3\\envs\\tf\\lib\\site-packages (from scikit-learn->sklearn) (1.5.2)\n",
      "Requirement already satisfied: numpy>=1.13.3 in c:\\users\\simmi\\anaconda3\\envs\\tf\\lib\\site-packages (from scikit-learn->sklearn) (1.19.4)\n",
      "Collecting joblib>=0.11\n",
      "  Downloading joblib-1.0.0-py3-none-any.whl (302 kB)\n",
      "Collecting threadpoolctl>=2.0.0\n",
      "  Downloading threadpoolctl-2.1.0-py3-none-any.whl (12 kB)\n",
      "Building wheels for collected packages: sklearn\n",
      "  Building wheel for sklearn (setup.py): started\n",
      "  Building wheel for sklearn (setup.py): finished with status 'done'\n",
      "  Created wheel for sklearn: filename=sklearn-0.0-py2.py3-none-any.whl size=1316 sha256=1d88506a49b875621d4b382e90022eb2fdac253f3e0b7019192bf2a40980391c\n",
      "  Stored in directory: c:\\users\\simmi\\appdata\\local\\pip\\cache\\wheels\\46\\ef\\c3\\157e41f5ee1372d1be90b09f74f82b10e391eaacca8f22d33e\n",
      "Successfully built sklearn\n",
      "Installing collected packages: threadpoolctl, joblib, scikit-learn, sklearn\n",
      "Successfully installed joblib-1.0.0 scikit-learn-0.24.0 sklearn-0.0 threadpoolctl-2.1.0\n"
     ]
    }
   ],
   "source": [
    "# !pip install matplotlib\n",
    "# !pip install sklearn"
   ]
  },
  {
   "cell_type": "code",
   "execution_count": 7,
   "metadata": {
    "collapsed": true
   },
   "outputs": [
    {
     "name": "stdout",
     "output_type": "stream",
     "text": [
      "Collecting matplotlib\n",
      "  Using cached matplotlib-3.3.0-cp37-cp37m-win_amd64.whl (8.8 MB)\n",
      "Collecting cycler>=0.10\n",
      "  Using cached cycler-0.10.0-py2.py3-none-any.whl (6.5 kB)\n",
      "Collecting pillow>=6.2.0\n",
      "  Using cached Pillow-7.2.0-cp37-cp37m-win_amd64.whl (2.1 MB)\n",
      "Requirement already satisfied: numpy>=1.15 in c:\\users\\simmi\\anaconda3\\envs\\tf2\\lib\\site-packages (from matplotlib) (1.19.1)\n",
      "Requirement already satisfied: python-dateutil>=2.1 in c:\\users\\simmi\\anaconda3\\envs\\tf2\\lib\\site-packages (from matplotlib) (2.8.1)\n",
      "Requirement already satisfied: pyparsing!=2.0.4,!=2.1.2,!=2.1.6,>=2.0.3 in c:\\users\\simmi\\anaconda3\\envs\\tf2\\lib\\site-packages (from matplotlib) (2.4.7)\n",
      "Collecting kiwisolver>=1.0.1\n",
      "  Using cached kiwisolver-1.2.0-cp37-none-win_amd64.whl (57 kB)\n",
      "Requirement already satisfied: six in c:\\users\\simmi\\anaconda3\\envs\\tf2\\lib\\site-packages (from cycler>=0.10->matplotlib) (1.15.0)\n",
      "Installing collected packages: cycler, pillow, kiwisolver, matplotlib\n",
      "Successfully installed cycler-0.10.0 kiwisolver-1.2.0 matplotlib-3.3.0 pillow-7.2.0\n"
     ]
    }
   ],
   "source": [
    "\n"
   ]
  },
  {
   "cell_type": "code",
   "execution_count": 4,
   "metadata": {},
   "outputs": [],
   "source": [
    "import tensorflow as tf\n",
    "import cnn_model"
   ]
  },
  {
   "cell_type": "code",
   "execution_count": 5,
   "metadata": {},
   "outputs": [
    {
     "name": "stdout",
     "output_type": "stream",
     "text": [
      "Epoch 1/20\n",
      "29/29 [==============================] - 4s 103ms/step - loss: 1.5751 - accuracy: 0.2664 - val_loss: 1.5631 - val_accuracy: 0.2434\n",
      "Epoch 2/20\n",
      "29/29 [==============================] - 2s 84ms/step - loss: 1.5202 - accuracy: 0.3204 - val_loss: 1.4072 - val_accuracy: 0.4779\n",
      "Epoch 3/20\n",
      "29/29 [==============================] - 2s 84ms/step - loss: 1.3954 - accuracy: 0.4184 - val_loss: 1.7681 - val_accuracy: 0.3938\n",
      "Epoch 4/20\n",
      "29/29 [==============================] - 2s 80ms/step - loss: 1.3785 - accuracy: 0.4704 - val_loss: 3.9629 - val_accuracy: 0.2434\n",
      "Epoch 5/20\n",
      "29/29 [==============================] - 2s 80ms/step - loss: 1.5823 - accuracy: 0.4429 - val_loss: 1.3669 - val_accuracy: 0.4248\n",
      "Epoch 6/20\n",
      "29/29 [==============================] - 2s 79ms/step - loss: 1.2516 - accuracy: 0.4856 - val_loss: 1.3400 - val_accuracy: 0.4513\n",
      "Epoch 7/20\n",
      "29/29 [==============================] - 2s 80ms/step - loss: 1.1401 - accuracy: 0.5219 - val_loss: 1.3492 - val_accuracy: 0.4646\n",
      "Epoch 8/20\n",
      "29/29 [==============================] - 2s 79ms/step - loss: 1.0970 - accuracy: 0.5500 - val_loss: 1.2534 - val_accuracy: 0.5133\n",
      "Epoch 9/20\n",
      "29/29 [==============================] - 2s 81ms/step - loss: 1.0317 - accuracy: 0.5784 - val_loss: 1.5463 - val_accuracy: 0.4646\n",
      "Epoch 10/20\n",
      "29/29 [==============================] - 2s 83ms/step - loss: 1.1022 - accuracy: 0.5671 - val_loss: 1.1729 - val_accuracy: 0.5442\n",
      "Epoch 11/20\n",
      "29/29 [==============================] - 3s 87ms/step - loss: 0.9478 - accuracy: 0.6245 - val_loss: 1.3209 - val_accuracy: 0.4779\n",
      "Epoch 12/20\n",
      "29/29 [==============================] - 2s 82ms/step - loss: 0.9220 - accuracy: 0.6406 - val_loss: 1.3569 - val_accuracy: 0.4646\n",
      "Epoch 13/20\n",
      "29/29 [==============================] - 3s 88ms/step - loss: 0.8156 - accuracy: 0.6874 - val_loss: 1.1095 - val_accuracy: 0.5442\n",
      "Epoch 14/20\n",
      "29/29 [==============================] - 3s 91ms/step - loss: 0.8371 - accuracy: 0.6763 - val_loss: 1.2360 - val_accuracy: 0.5752\n",
      "Epoch 15/20\n",
      "29/29 [==============================] - 3s 87ms/step - loss: 0.8137 - accuracy: 0.6887 - val_loss: 1.9518 - val_accuracy: 0.4027\n",
      "Epoch 16/20\n",
      "29/29 [==============================] - 3s 86ms/step - loss: 0.7391 - accuracy: 0.7034 - val_loss: 1.6006 - val_accuracy: 0.4735\n",
      "Epoch 17/20\n",
      "29/29 [==============================] - 3s 89ms/step - loss: 0.6904 - accuracy: 0.7440 - val_loss: 1.4464 - val_accuracy: 0.5088\n",
      "Epoch 18/20\n",
      "29/29 [==============================] - 3s 92ms/step - loss: 0.6331 - accuracy: 0.7649 - val_loss: 1.3280 - val_accuracy: 0.5133\n",
      "Epoch 19/20\n",
      "29/29 [==============================] - 2s 83ms/step - loss: 0.6598 - accuracy: 0.7681 - val_loss: 1.3912 - val_accuracy: 0.5310\n",
      "Epoch 20/20\n",
      "29/29 [==============================] - 2s 83ms/step - loss: 0.6371 - accuracy: 0.7293 - val_loss: 1.2686 - val_accuracy: 0.5885\n",
      "8/8 [==============================] - 0s 13ms/step - loss: 1.2686 - accuracy: 0.5885\n",
      "정답률= 0.5884955525398254 loss= 1.2686245441436768\n"
     ]
    }
   ],
   "source": [
    "\n",
    "from tensorflow.python import keras\n",
    "# import keras\n",
    "\n",
    "import matplotlib.pyplot as plt\n",
    "import numpy as np\n",
    "from sklearn.model_selection import train_test_split\n",
    "\n",
    "# 입력과 출력 지정하기 --- (*1)\n",
    "im_rows = 32 # 이미지의 높이\n",
    "im_cols = 32 # 이미지의 너비\n",
    "im_color = 3 # 이미지의 색공간\n",
    "in_shape = (im_rows, im_cols, im_color)\n",
    "nb_classes = 5\n",
    "\n",
    "# 사진 데이터 읽어 들이기 --- (*2)\n",
    "photos = np.load('image/photos.npz')\n",
    "x = photos['x']\n",
    "y = photos['y']\n",
    "\n",
    "# 읽어들인 데이터를 3차원 배열로 변환하기 --- (*3)\n",
    "x = x.reshape(-1, im_rows, im_cols, im_color)\n",
    "x = x.astype('float32') / 255\n",
    "# 레이블 데이터를 One-hot 형식으로 변환하기 --- (*4)\n",
    "y = keras.utils.np_utils.to_categorical(y.astype('int32'), nb_classes)\n",
    "\n",
    "# 학습 전용과 테스트 전용으로 구분하기 --- (*5)\n",
    "x_train, x_test, y_train, y_test = train_test_split(\n",
    "    x, y, train_size=0.8)\n",
    "\n",
    "# CNN 모델 만들기 (위에 선언한 함수) --- (*6)\n",
    "model = cnn_model.get_model(in_shape, nb_classes)\n",
    "\n",
    "# 학습 실행하기 --- (*7)\n",
    "hist = model.fit(x_train, y_train,\n",
    "          batch_size=32,\n",
    "          epochs=20,\n",
    "          verbose=1,\n",
    "          validation_data=(x_test, y_test))\n",
    "\n",
    "# 모델 평가하기 --- (*8)\n",
    "score = model.evaluate(x_test, y_test, verbose=1)\n",
    "print('정답률=', score[1], 'loss=', score[0])\n"
   ]
  },
  {
   "cell_type": "code",
   "execution_count": 6,
   "metadata": {},
   "outputs": [
    {
     "data": {
      "image/png": "[encoded data removed]",
      "text/plain": [
       "<Figure size 432x288 with 1 Axes>"
      ]
     },
     "metadata": {
      "needs_background": "light"
     },
     "output_type": "display_data"
    },
    {
     "data": {
      "image/png": "[encoded data removed]",
      "text/plain": [
       "<Figure size 432x288 with 1 Axes>"
      ]
     },
     "metadata": {
      "needs_background": "light"
     },
     "output_type": "display_data"
    }
   ],
   "source": [
    "\n",
    "# 학습 상태를 그래프로 그리기 --- (*9)\n",
    "# 정답률 추이를 그래프로 그리기\n",
    "plt.plot(hist.history['accuracy'])\n",
    "plt.plot(hist.history['val_accuracy'])\n",
    "plt.title('Accuracy')\n",
    "plt.legend(['train', 'test'], loc='upper left')\n",
    "plt.show()\n",
    "\n",
    "# 손실 추이를 그래프로 그리기\n",
    "plt.plot(hist.history['loss'])\n",
    "plt.plot(hist.history['val_loss'])\n",
    "plt.title('Loss')\n",
    "plt.legend(['train', 'test'], loc='upper left')\n",
    "plt.show()\n",
    "\n",
    "model.save_weights('./image/photos-model-light.hdf5')\n"
   ]
  },
  {
   "cell_type": "markdown",
   "metadata": {},
   "source": [
    "[ 결과 ] \n",
    "\n",
    "정답률이 70% 정도 나온다 하더라도 좋은 결과가 아니다.\n",
    "\n",
    "만일 값이 너무 안 좋으면 데이타클리닝 작업으로 필요없는 사진을 제거해야 한다.\n",
    "\n",
    "정답률의 차이는 대부분 데이터의 품질에서 발생한다."
   ]
  }
 ],
 "metadata": {
  "kernelspec": {
   "display_name": "Python 3",
   "language": "python",
   "name": "python3"
  },
  "language_info": {
   "codemirror_mode": {
    "name": "ipython",
    "version": 3
   },
   "file_extension": ".py",
   "mimetype": "text/x-python",
   "name": "python",
   "nbconvert_exporter": "python",
   "pygments_lexer": "ipython3",
   "version": "3.7.9"
  }
 },
 "nbformat": 4,
 "nbformat_minor": 2
}
