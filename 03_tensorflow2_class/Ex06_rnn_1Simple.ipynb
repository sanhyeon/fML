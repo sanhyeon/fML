{
 "cells": [
  {
   "cell_type": "markdown",
   "metadata": {},
   "source": []
  },
  {
   "cell_type": "markdown",
   "metadata": {
    "colab_type": "text",
    "id": "BCq2UCUvEkhh"
   },
   "source": [
    "# 순환신경망 (Recurrent Neural Network : RNN )\n",
    "\n",
    "   + 순서가 있는 데이터를 입력으로 받고, 같은 네트워크를 이용해 변화하는 입력에 대한 출력을 얻는다\n",
    "   + 순환신경망(RNN)은 여러 개의 데이터가 순서대로 입력되었을 때 앞서 입력받은 데이터를 잠시 기억해 놓는 방법이다.\n",
    "   + 기억된 데이타가 얼마나 중요한지를 판단하여 별도의 가중치를 줘서 다음 데이터로 넘어간다\n",
    "   + 모든 입력 값에 이 작업을 순서대로 실행하므로 다음 층에서 넘어가지 전에 같은 층을 맴도는 것처럼 보여서 순환신경망이라고 부른다\n",
    "    \n",
    "   <img src='./imgs/rnn1.png' width='400' height='250'>\n",
    "   <img src='./imgs/rnn2.png' width='400' height='250'>\n",
    "   \n",
    "   [출처] 모두의 딥러닝"
   ]
  },
  {
   "cell_type": "markdown",
   "metadata": {
    "colab_type": "text",
    "id": "8DmYqaWfcxJa"
   },
   "source": [
    "##  1. SimpleRNN 레이어\n",
    "\n",
    "[ 0.0, 0.1, 0.2, 0.3 ] 이라는 연속된 숫자가 주어졌을 때 0.4를 예측하도록 네트워크를 만드는 것이다."
   ]
  },
  {
   "cell_type": "markdown",
   "metadata": {},
   "source": [
    "### 시퀀스 예측 모델 정의\n",
    "\n",
    "<img src='./imgs/rnn3.png' width='600' height='450'>"
   ]
  },
  {
   "cell_type": "code",
   "execution_count": null,
   "metadata": {
    "colab": {
     "base_uri": "https://localhost:8080/",
     "height": 35
    },
    "colab_type": "code",
    "executionInfo": {
     "elapsed": 4211,
     "status": "ok",
     "timestamp": 1575820913129,
     "user": {
      "displayName": "Hwanhee Kim",
      "photoUrl": "https://lh3.googleusercontent.com/a-/AAuE7mAJC9PPBoQ91glDwFjxm3TlW5EqGy0BIAJ52D-ekw=s64",
      "userId": "04863080312902369470"
     },
     "user_tz": -540
    },
    "id": "gl58Zr-ZKjRE",
    "outputId": "e79e9d7f-37e0-4e15-ba28-62661df716f3"
   },
   "outputs": [],
   "source": []
  },
  {
   "cell_type": "code",
   "execution_count": 1,
   "metadata": {
    "colab": {
     "base_uri": "https://localhost:8080/",
     "height": 449
    },
    "colab_type": "code",
    "executionInfo": {
     "elapsed": 43014,
     "status": "ok",
     "timestamp": 1565400947872,
     "user": {
      "displayName": "Hwanhee Kim",
      "photoUrl": "https://lh6.googleusercontent.com/-nodxsDvEvZo/AAAAAAAAAAI/AAAAAAAABHE/Ybrj2myvr5Q/s64/photo.jpg",
      "userId": "04863080312902369470"
     },
     "user_tz": -540
    },
    "id": "vU4_rMdw47Au",
    "outputId": "c395215a-9a07-4a78-f9d2-d088c9c8a0a9"
   },
   "outputs": [
    {
     "name": "stdout",
     "output_type": "stream",
     "text": [
      "[[0. ]\n",
      " [0.1]\n",
      " [0.2]\n",
      " [0.3]] --> 0.4\n",
      "[[0.1]\n",
      " [0.2]\n",
      " [0.3]\n",
      " [0.4]] --> 0.5\n",
      "[[0.2]\n",
      " [0.3]\n",
      " [0.4]\n",
      " [0.5]] --> 0.6\n",
      "[[0.3]\n",
      " [0.4]\n",
      " [0.5]\n",
      " [0.6]] --> 0.7\n",
      "[[0.4]\n",
      " [0.5]\n",
      " [0.6]\n",
      " [0.7]] --> 0.8\n",
      "[[0.5]\n",
      " [0.6]\n",
      " [0.7]\n",
      " [0.8]] --> 0.9\n"
     ]
    }
   ],
   "source": [
    "import tensorflow as tf\n",
    "import numpy as np\n",
    "\n",
    "# (1) 시퀀스 예측 데이터 생성\n",
    "X = []    # 입력데이타\n",
    "Y = []    # 출력데이타\n",
    "\n",
    "for i in range(6): # 0부터 5까지\n",
    "    \n",
    "    # [0,1,2,3], [1,2,3,4] 같은 정수의 시퀀스를 만듭니다.\n",
    "    lst = list(range(i,i+4)) # 0부터 4전의 3까지 list 만들기\n",
    "\n",
    "    # 위에서 구한 시퀀스의 숫자들을 각각 10으로 나눈 다음 저장합니다.\n",
    "    # SimpleRNN 에 각 타임스텝에 하나씩 숫자가 들어가기 때문에 여기서도 하나씩 분리해서 배열에 저장합니다.\n",
    "    # map(f, iterable) : 함수(f)와 반복 가능한 (iterable) 자료형을 입력으로 받는다.\n",
    "    # result = list(map(lambda i: i ** 2 , li)) : li 요소들을 i로 하나씩 i**2 함수로 한 결과를 다시 list로 변환\n",
    "    X.append(list(map(lambda c: [c/10], lst)))\n",
    "\n",
    "    # 정답에 해당하는 4, 5 등의 정수를 역시 위처럼 10으로 나눠서 실수로 저장합니다.\n",
    "    Y.append((i+4)/10)\n",
    "    \n",
    "X = np.array(X)\n",
    "Y = np.array(Y)\n",
    "\n",
    "# 입력데이타(X)와 출력데이타(Y) 확인\n",
    "for i in range(len(X)):\n",
    "    print(X[i], '-->', Y[i])"
   ]
  },
  {
   "cell_type": "code",
   "execution_count": 2,
   "metadata": {
    "colab": {
     "base_uri": "https://localhost:8080/",
     "height": 233
    },
    "colab_type": "code",
    "executionInfo": {
     "elapsed": 3098,
     "status": "ok",
     "timestamp": 1565420204501,
     "user": {
      "displayName": "Hwanhee Kim",
      "photoUrl": "https://lh6.googleusercontent.com/-nodxsDvEvZo/AAAAAAAAAAI/AAAAAAAABHE/Ybrj2myvr5Q/s64/photo.jpg",
      "userId": "04863080312902369470"
     },
     "user_tz": -540
    },
    "id": "yFdjOc6G5kO1",
    "outputId": "b1f16a66-1bc5-439e-e51b-89709bd3a85f"
   },
   "outputs": [
    {
     "name": "stdout",
     "output_type": "stream",
     "text": [
      "Model: \"sequential\"\n",
      "_________________________________________________________________\n",
      "Layer (type)                 Output Shape              Param #   \n",
      "=================================================================\n",
      "simple_rnn (SimpleRNN)       (None, 10)                120       \n",
      "_________________________________________________________________\n",
      "dense (Dense)                (None, 1)                 11        \n",
      "=================================================================\n",
      "Total params: 131\n",
      "Trainable params: 131\n",
      "Non-trainable params: 0\n",
      "_________________________________________________________________\n"
     ]
    }
   ],
   "source": [
    "# (2) 시퀀스 예측 모델 정의\n",
    "#     출력을 위해 Dense 레이어를 뒤에 추가\n",
    "#     input_shape=[timesteps, input_dim]\n",
    "#     timesteps : 순환신경망이 입력에 대해 계산을 반복하는 횟수 ( 위에 보면 ) [[0. ] [0.1] [0.2] [0.3]] 으로 4번이다\n",
    "#     input_dim : 입력벡터의 크기\n",
    "model = tf.keras.Sequential([\n",
    "    tf.keras.layers.SimpleRNN(units=10, return_sequences=False, input_shape=[4,1]),\n",
    "    tf.keras.layers.Dense(1)\n",
    "])\n",
    "\n",
    "model.compile(optimizer='adam', loss='mse')\n",
    "model.summary()"
   ]
  },
  {
   "cell_type": "code",
   "execution_count": 3,
   "metadata": {
    "colab": {
     "base_uri": "https://localhost:8080/",
     "height": 125
    },
    "colab_type": "code",
    "executionInfo": {
     "elapsed": 3394,
     "status": "ok",
     "timestamp": 1565095662369,
     "user": {
      "displayName": "Hwanhee Kim",
      "photoUrl": "https://lh6.googleusercontent.com/-nodxsDvEvZo/AAAAAAAAAAI/AAAAAAAABHE/Ybrj2myvr5Q/s64/photo.jpg",
      "userId": "04863080312902369470"
     },
     "user_tz": -540
    },
    "id": "7odqgVWw5oyH",
    "outputId": "c67cc65e-2ea1-4f8a-b979-9977d5827747"
   },
   "outputs": [
    {
     "name": "stdout",
     "output_type": "stream",
     "text": [
      "[[0.39153188]\n",
      " [0.5443831 ]\n",
      " [0.65469146]\n",
      " [0.72774255]\n",
      " [0.77327514]\n",
      " [0.80033207]]\n"
     ]
    }
   ],
   "source": [
    "# (3) 네트워크 훈련 및 결과 확인\n",
    "#     verbose=0 : 훈련과정에서의 출력이 나오지 않음 ( 출력 볼 필요 없을 때 )\n",
    "model.fit(X, Y, epochs=100, verbose=0)\n",
    "print(model.predict(X))"
   ]
  },
  {
   "cell_type": "markdown",
   "metadata": {},
   "source": [
    "[ 결과 ] \n",
    "\n",
    "X (학습 데이타) : [[0. ] [0.1] [0.2] [0.3]]  -->  예측값 :  0.43109146  즉 0.4와 유사하다\n",
    " "
   ]
  },
  {
   "cell_type": "code",
   "execution_count": 4,
   "metadata": {
    "colab": {
     "base_uri": "https://localhost:8080/",
     "height": 53
    },
    "colab_type": "code",
    "executionInfo": {
     "elapsed": 805,
     "status": "ok",
     "timestamp": 1565095663313,
     "user": {
      "displayName": "Hwanhee Kim",
      "photoUrl": "https://lh6.googleusercontent.com/-nodxsDvEvZo/AAAAAAAAAAI/AAAAAAAABHE/Ybrj2myvr5Q/s64/photo.jpg",
      "userId": "04863080312902369470"
     },
     "user_tz": -540
    },
    "id": "KQUaYRRG7aWA",
    "outputId": "c5baa2e9-e25c-4195-98a6-2b58d1b0fdb1"
   },
   "outputs": [
    {
     "name": "stdout",
     "output_type": "stream",
     "text": [
      "[[0.81573063]]\n",
      "[[0.2041359]]\n"
     ]
    }
   ],
   "source": [
    "# (4) 학습되지 않은 시퀀스에 대한 예측 결과\n",
    "print(model.predict(np.array([[[0.6],[0.7],[0.8],[0.9]]])))\n",
    "print(model.predict(np.array([[[-0.1],[0.0],[0.1],[0.2]]])))"
   ]
  },
  {
   "cell_type": "markdown",
   "metadata": {},
   "source": [
    "[결과]\n",
    "\n",
    "[[[-0.1],[0.0],[0.1],[0.2]]] --> [[0.28398907]] : 원하는 출력으로 0.3을 예측하였지만\n",
    "    \n",
    "[[[0.6],[0.7],[0.8],[0.9]]] -->  [[0.8932602]]  : 원하는 출력으로 1.0을 예측하지 못하였다.\n",
    "\n",
    "* 신경망에 일반화된 규칙을 학습시키는 것은 아직까지 어려운 과제 중 하나랍니다"
   ]
  }
 ],
 "metadata": {
  "accelerator": "GPU",
  "colab": {
   "collapsed_sections": [],
   "name": "Chapter7.ipynb",
   "provenance": [
    {
     "file_id": "148SI-wpi5Z3vDvYyOrNwGKsQQLZnVF-S",
     "timestamp": 1565493431491
    }
   ],
   "toc_visible": true
  },
  "kernelspec": {
   "display_name": "Python 3 (ipykernel)",
   "language": "python",
   "name": "python3"
  },
  "language_info": {
   "codemirror_mode": {
    "name": "ipython",
    "version": 3
   },
   "file_extension": ".py",
   "mimetype": "text/x-python",
   "name": "python",
   "nbconvert_exporter": "python",
   "pygments_lexer": "ipython3",
   "version": "3.9.7"
  }
 },
 "nbformat": 4,
 "nbformat_minor": 1
}
