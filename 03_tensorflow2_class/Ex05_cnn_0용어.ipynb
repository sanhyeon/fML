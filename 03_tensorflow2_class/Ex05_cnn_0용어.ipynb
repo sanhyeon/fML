{
 "cells": [
  {
   "cell_type": "markdown",
   "metadata": {},
   "source": [
    "# CNN (Convolutional Neural Network )\n",
    "\n",
    "[ 이전에 사용한 레이어 ]\n",
    "\n",
    "    \n",
    "   1. Dense 레이어\n",
    "        - 신경망에서 가장 기본이 되는 레이어\n",
    "   \n",
    "   2. Flatten 레이어\n",
    "       \n",
    "      + 다차원의 이미지를 1차원으로 평평하게 바꿔주는 단순한 레이어\n",
    "      + 컨볼루션 층(Convolution layer)나 맥스플링(MaxPooling)은 주어진 이미지를 2차원 배열인 채로 다룬다.  그 뒤 일반층으로 넘길 때 Flatten() 함수를 이용한다\n",
    "       \n",
    "       \n",
    "[ 컨볼루션 신경망을 구성하는 레이어   ]\n",
    "\n",
    "   1. Convolution 레이어\n",
    "    - 특징을 추출하는 역할\n",
    "    - Conv2D 레이어 생성 코드\n",
    "        conv1 = tf.keras.layers.Conv2D(kernel_size=(3,3),strides=(2,2),padding='valid' ,filters=16)\n",
    "    - 세 레이어 중 학습이 가능  \n",
    "    \n",
    "            \n",
    "   2. Pooling 레이어\n",
    "    - 중요한 정보만 남기고 계산 부담을 줄여주는 역할\n",
    "    - MaxPool2D 레이어 생성 코드\n",
    "        pool1 = tf.keras.layers.MaxPool2D(pool_size=(2,2), strides=(2,2))\n",
    "\n",
    "\n",
    "   3. Dropout  레이어\n",
    "    - 과적합을 방지하는 역할\n",
    "    - Dropout 레이어 생성 코드\n",
    "        pool1 = tf.keras.layers.Dropout(rate=0.3)"
   ]
  },
  {
   "cell_type": "markdown",
   "metadata": {},
   "source": [
    "[참고] 채널 확인\n",
    "\n",
    "+ 컨볼루션 레이어는 각 채널에 대해 계산된 값을 합쳐서 새로운 이미지를 만든다\n",
    "+ 채널이란 각 이미지가 가진 색상에 대한 정보를 분리해서 담아놓은 공간이다.\n",
    "+ 이미지에는 원색으로 구성된 채널이 있다.\n",
    "\n",
    "[참고사이트](https://bcho.tistory.com/1149)"
   ]
  },
  {
   "cell_type": "markdown",
   "metadata": {},
   "source": [
    "##  1. Convolution 레이어\n",
    "\n",
    "<img src='./imgs/cnn설명.gif' width='500'/>\n",
    "<img src='./imgs/cnn6.PNG' width='500'/>\n",
    "\n",
    "[출처] [모두의딥러닝](https://thebook.io/080228/part05/ch16/05/)\n"
   ]
  },
  {
   "cell_type": "markdown",
   "metadata": {},
   "source": [
    "## 2. 풀링 (Pooling)\n",
    "\n",
    "   + 컨볼루션 층을 통해 이미지 특징을 도출하였지만 그 결과가 크고 복잡해서 축소하는 과정이 필요한데,\n",
    "     이를 풀링(pooling) 또는 서브샘플링(sub sampling) 기법이라고 한다\n",
    "   + 많이 사용하는 방법이 맥스플링(MaxPooling), 평균플링(AveragePooling)이다.  \n",
    "\n",
    "<img src='./imgs/maxpooling.jfif' width='400'/>\n",
    "\n",
    "\n",
    "\n",
    "[참고] [모두의딥러닝](https://thebook.io/080228/part05/ch16/05/)"
   ]
  },
  {
   "cell_type": "markdown",
   "metadata": {},
   "source": [
    "## 3. 드랍아웃 (Dropout)\n",
    "\n",
    "<img src='./imgs/dropout1.PNG' width='500'/>\n",
    "\n",
    "[출처] [모두의딥러닝](https://thebook.io/080228/part05/ch16/05/)"
   ]
  }
 ],
 "metadata": {
  "kernelspec": {
   "display_name": "Python 3",
   "language": "python",
   "name": "python3"
  },
  "language_info": {
   "codemirror_mode": {
    "name": "ipython",
    "version": 3
   },
   "file_extension": ".py",
   "mimetype": "text/x-python",
   "name": "python",
   "nbconvert_exporter": "python",
   "pygments_lexer": "ipython3",
   "version": "3.8.8"
  }
 },
 "nbformat": 4,
 "nbformat_minor": 4
}
