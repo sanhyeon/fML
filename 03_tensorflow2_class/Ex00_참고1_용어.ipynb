{
 "cells": [
  {
   "cell_type": "markdown",
   "id": "2b0487c5",
   "metadata": {},
   "source": [
    "# [참고] Hello 텐서플로 2.0 확인"
   ]
  },
  {
   "cell_type": "code",
   "execution_count": 1,
   "id": "2c102069",
   "metadata": {},
   "outputs": [],
   "source": [
    "#  텐서플로 2.0 버전 선택\n",
    "try:\n",
    "    # %tensorflow_version only exists in Colab.\n",
    "    %tensorflow_version 2.x\n",
    "except Exception:\n",
    "    pass\n",
    "\n",
    "import tensorflow as tf"
   ]
  },
  {
   "cell_type": "code",
   "execution_count": 2,
   "id": "6cf1dd5e",
   "metadata": {},
   "outputs": [],
   "source": [
    "# Google Colab 운영체제 확인\n",
    "# import platform\n",
    "# print(platform.platform())"
   ]
  },
  {
   "cell_type": "code",
   "execution_count": 3,
   "id": "ba5681cb",
   "metadata": {},
   "outputs": [
    {
     "data": {
      "text/plain": [
       "'2.5.0'"
      ]
     },
     "execution_count": 3,
     "metadata": {},
     "output_type": "execute_result"
    }
   ],
   "source": [
    "# 텐서플로우 불러오기, 버전 확인\n",
    "# import tensorflow as tf\n",
    "\n",
    "tf.__version__"
   ]
  },
  {
   "cell_type": "code",
   "execution_count": null,
   "id": "6025127c",
   "metadata": {},
   "outputs": [],
   "source": []
  },
  {
   "cell_type": "markdown",
   "id": "8194d553",
   "metadata": {},
   "source": [
    "\n",
    "---\n",
    "\n",
    "##  [참고] 랜덤한 수 생성\n",
    "\n",
    " * 균등분포란\n",
    " \n",
    "     일반적으로 각 이벤트의 결과값을 알 수 없는 경우에 미래에 발생할\n",
    "    이벤트의 결과값 x가 각 예상되는 범위별로  균등한 확률로 일어날 것이라고 예상될 때\n",
    "   사용한다.\n",
    "\n",
    "   예를 들어 주사위를 던져 윗면에 있는 숫자를 알아보기로 하자.  200번을 던지고 201번째    주사위를 던진다고 했을 때 201번째 결과값은 앞은 1에서 200번까지 결과값에 영향을\n",
    "   받지 않는다.\n",
    "   201번째 결과값이 1,2,3,4,5,6 각각의 결과값으로 나올 확률은 6분의 1이며 이는 앞의\n",
    "   1~200번째 결과값에 영향을 받아 줄어들거나 늘어나지 않는다는 것이다.\n",
    "   이처럼  미래 결과값이 경험적으로 알 수 없을 상황에서 사용하는 것이 균등분포이다.\n",
    "\n",
    "\n",
    "  * 정규분포란  \n",
    "  \n",
    "      과거의 축적된 경험적 데이타를 이미 보유하고 있어 이를 이용하여 미래에\n",
    "    발생할 결과값 x의 각 예상되는 범위별로 발생될 확률을 어느정도 추정할 수 있을 때\n",
    "    사용한다.\n",
    "    세상의 수많은 현상들은  많은 경우에 있어서 정규분포를 따른다고 한다.\n",
    "   \n",
    "     예를 들어, 프랜차이즈 매장을  연지 2년이 되었다면  다음 달 매출액이 대략 어느\n",
    "     정도 범위안에 들 것이라는 것이 예측가능하다.  이전 3개월의 매출추세를 이용해\n",
    "     이번달에는 어느 범위에 들 것이라는 것이 예측가능하다.\n",
    "     매장주라면 과거 3개월의 매출이 2천만원, 2천백만원, 2천2백원 발생하였으니\n",
    "     이번달 매출은 과거 3개월의 매출평균인 2천백만원으로 예측할 수 있고 못해도 최소\n",
    "     2천만원의 매출을 달성할 수 있고,  최대 2천2백만원까지 매출할 수 있다는 예상이\n",
    "     가능하다.\n",
    "\n",
    "    많은 수학자들은  현실의 현상을 분석하여 수많은 현상들이 정규분포를 따른다는 것을\n",
    "    밝혀 내고 이 정규분포가 갖고 있는 여러가지 특성들을 정리하였다.\n",
    "    \n",
    "    [출처](https://jonnyomme.blogspot.com/)"
   ]
  },
  {
   "cell_type": "code",
   "execution_count": 4,
   "id": "c95a01e9",
   "metadata": {},
   "outputs": [
    {
     "name": "stdout",
     "output_type": "stream",
     "text": [
      "tf.Tensor([0.59427226], shape=(1,), dtype=float32)\n"
     ]
    }
   ],
   "source": [
    "# 1) 랜덤한 수 얻기 (균일 분포)\n",
    "rand = tf.random.uniform([1],0,1) # shape,   minval=0,    maxval=None,\n",
    "print(rand)"
   ]
  },
  {
   "cell_type": "code",
   "execution_count": 5,
   "id": "2fe57c4c",
   "metadata": {},
   "outputs": [
    {
     "name": "stdout",
     "output_type": "stream",
     "text": [
      "tf.Tensor([0.560346   0.42262018 0.74634194 0.370247  ], shape=(4,), dtype=float32)\n"
     ]
    }
   ],
   "source": [
    "# 2)랜덤한 수 여러 개 얻기 (균일 분포)\n",
    "rand = tf.random.uniform([4],0,1) # shape,   minval=0,    maxval=None,\n",
    "print(rand)"
   ]
  },
  {
   "cell_type": "code",
   "execution_count": 6,
   "id": "0ecacd16",
   "metadata": {},
   "outputs": [
    {
     "name": "stdout",
     "output_type": "stream",
     "text": [
      "tf.Tensor([-0.12720951  1.3395882   0.92285043 -0.25123718], shape=(4,), dtype=float32)\n"
     ]
    }
   ],
   "source": [
    "# 3) 랜덤한 수 여러 개 얻기 (정규 분포)\n",
    "rand = tf.random.normal([4],0,1)  # shape,   mean=0.0,   stddev=1.0,\n",
    "print(rand)"
   ]
  },
  {
   "cell_type": "code",
   "execution_count": null,
   "id": "b3269dd0",
   "metadata": {},
   "outputs": [],
   "source": []
  },
  {
   "cell_type": "markdown",
   "id": "0beafd42",
   "metadata": {},
   "source": [
    "## 경사하강법\n",
    "\n",
    "> + 경사하강법은 딥러닝 모델을 훈련할 때, 모델 태부의 가중치(weight)에 대한 미분 값을 구하고 목적함수 값이 낮아지는 방향으로 차감하면서 결국 최소 함수 값을 갖도록 하는 방법이다.\n",
    "\n",
    "> + 딥러닝 훈련 프로세스에서 경사하강법 알고리즘을 적용하여 손실함수 값을 최소로 만드는 가충지를 찾을 수 있다\n",
    "\n",
    "\n",
    "\n",
    "\n",
    "### 속도와 정확도 문제를 해결하는 고급 경사 하강법\n",
    " \n",
    "\n",
    "가중치를 업데이트하는 방법으로 우리는 경사 하강법을 배웠습니다. 그런데 경사 하강법은 정확하게 가중치를 찾아가지만, 한 번 업데이트할 때마다 전체 데이터를 미분해야 하므로 계산량이 매우 많다는 단점이 있습니다. 이러한 점을 보완한 고급 경사 하강법이 등장하면서 딥러닝의 발전 속도는 더 빨라졌습니다.\n",
    "\n",
    " \n",
    "\n",
    "◼︎ 확률적 경사 하강법\n",
    "\n",
    "경사 하강법은 불필요하게 많은 계산량은 속도를 느리게 할 뿐 아니라, 최적 해를 찾기 전에 최적화 과정이 멈출 수도 있습니다. 확률적 경사 하강법(Stochastic Gradient Descent, SGD)은 경사 하강법의 이러한 단점을 보완한 방법입니다.\n",
    "\n",
    "전체 데이터를 사용하는 것이 아니라, 랜덤하게 추출한 일부 데이터를 사용합니다. 일부 데이터를 사용하므로 더 빨리 그리고 자주 업데이트를 하는 것이 가능해졌습니다.\n",
    "\n",
    "아래 그림은 경사 하강법과 확률적 경사 하강법의 차이를 보여 줍니다. 랜덤한 일부 데이터를 사용하는 만큼 확률적 경사 하강법은 중간 결과의 진폭이 크고 불안정해 보일 수도 있습니다. 하지만 속도가 확연히 빠르면서도 최적 해에 근사한 값을 찾아낸다는 장점 덕분에 경사 하강법의 대안으로 사용되고 있습니다.\n",
    "\n",
    "<img src='./imgs/경사하강법3.PNG' width='500'/>\n",
    "\n",
    "---\n",
    "\n",
    "<img src='./imgs/경사하강법4.PNG' width='500'/>\n",
    "\n",
    " 아담(Adam)은 현재 가장 많이 사용되는 고급 경사 하강법입니다.\n",
    " \n"
   ]
  },
  {
   "cell_type": "code",
   "execution_count": null,
   "id": "eba4ba7d",
   "metadata": {},
   "outputs": [],
   "source": []
  },
  {
   "cell_type": "markdown",
   "id": "2443075f",
   "metadata": {},
   "source": [
    "## 오차 역전파 (back propagation)\n",
    "\n",
    "+ 신경망 내부의 가중치를 수정할 때 오차 역전파 방법을 사용\n",
    "+ 경사 하강법의 확장 개념\n",
    "\n",
    "<img src='./imgs/오차역전파.PNG' width='500'/>\n",
    "\n",
    " [출처] [모두의 딥러닝](https://thebook.io/080228/part03/ch09/02-02/)"
   ]
  },
  {
   "cell_type": "code",
   "execution_count": null,
   "id": "9b0f32d3",
   "metadata": {},
   "outputs": [],
   "source": []
  }
 ],
 "metadata": {
  "kernelspec": {
   "display_name": "Python 3",
   "language": "python",
   "name": "python3"
  },
  "language_info": {
   "codemirror_mode": {
    "name": "ipython",
    "version": 3
   },
   "file_extension": ".py",
   "mimetype": "text/x-python",
   "name": "python",
   "nbconvert_exporter": "python",
   "pygments_lexer": "ipython3",
   "version": "3.8.8"
  }
 },
 "nbformat": 4,
 "nbformat_minor": 5
}
