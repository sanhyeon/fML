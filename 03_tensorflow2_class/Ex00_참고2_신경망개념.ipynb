{
 "cells": [
  {
   "cell_type": "markdown",
   "metadata": {
    "colab_type": "text",
    "id": "goJriV4SUL4F"
   },
   "source": [
    "---\n",
    "## 0. 간단한 신경망 구조\n",
    "\n",
    "<img src='./imgs/신경망.png' width='500'/>\n",
    "\n",
    "---\n",
    "\n",
    "## 1. 뉴런 만들기\n",
    "\n",
    "+ sigmoid : S형태의 곡선\n",
    "+ ReLU (Rectified Linear Unit ) : 정류된 선형함수\n",
    "   - 딥러닝에서 선형함수는 y=x라는 식으로 정의할 수 있는 입력과 출력이 동일한 함수를 의미하는데, 이 함수를 정류해서(rectify)해서 음수 값을 0으로 만든 것이다.\n",
    "    \n",
    "<img src='./imgs/sigmoid_relu.png'>\n",
    "\n",
    "\n",
    "\n",
    "<img src='./imgs/활성화함수1.png' width='400' height='250'>\n",
    "\n"
   ]
  },
  {
   "cell_type": "markdown",
   "metadata": {},
   "source": [
    "## (1) 입력이 1일 때 기대출력이 0이 되는 뉴런을 만든다면"
   ]
  },
  {
   "cell_type": "code",
   "execution_count": 1,
   "metadata": {
    "colab": {},
    "colab_type": "code",
    "id": "ilkTV9SKmyP5"
   },
   "outputs": [],
   "source": [
    "# (1) sigmoid 함수\n",
    "import math\n",
    "def sigmoid(x):\n",
    "    return 1 / (1 + math.exp(-x))"
   ]
  },
  {
   "cell_type": "code",
   "execution_count": 2,
   "metadata": {
    "colab": {
     "base_uri": "https://localhost:8080/",
     "height": 35
    },
    "colab_type": "code",
    "executionInfo": {
     "elapsed": 824,
     "status": "ok",
     "timestamp": 1556809447757,
     "user": {
      "displayName": "Hwanhee Kim",
      "photoUrl": "https://lh6.googleusercontent.com/-nodxsDvEvZo/AAAAAAAAAAI/AAAAAAAABHE/Ybrj2myvr5Q/s64/photo.jpg",
      "userId": "04863080312902369470"
     },
     "user_tz": -540
    },
    "id": "bmOY52Sj3p0a",
    "outputId": "13582d69-c251-4c5c-c3f5-2ce1c2536992"
   },
   "outputs": [
    {
     "name": "stdout",
     "output_type": "stream",
     "text": [
      "0.6672631746944219\n"
     ]
    }
   ],
   "source": [
    "# (2) 뉴런의 입력과 출력 정의\n",
    "#    입력이 1일 때 기대출력이 0이 되는 뉴런을 만든고자 하는데\n",
    "import tensorflow as tf\n",
    "\n",
    "x = 1\n",
    "y = 0\n",
    "w = tf.random.normal([1],0,1)\n",
    "output = sigmoid(x * w)\n",
    "print(output)\n",
    "# 실제 출력 output은 기대출력 0과 차이가 있는데 이를 error라고 한다.\n",
    "# error = 0 - output  (ex -0.84)\n",
    "# 뉴런의 학습은 이 에러가 0에 가까워지게 하여 기댓값과 가까운 출력을 얻는 것이다."
   ]
  },
  {
   "cell_type": "markdown",
   "metadata": {},
   "source": [
    "---\n",
    "\n",
    "### [참고] 경사하강법\n",
    "\n",
    "- 오차와 기울기의 관계를 그래프로 그려보면, 어느 한 기울기에서 오차가 최소인 점을 알 우 싱다.\n",
    "- 그 점은 기울이가 0인 점이다.\n",
    "- 즉, 오차가 최소인 점을 알아낼려면 기울기가 0인 점을 찾아내면 된다\n",
    "- 그래서 어느 한 점을 정해두고 정해둔 학습률과 함께 미문을 하면서 이동하다보면 오차가 최소인 점을 찾게 되는데, 마치 경사를 타고 내려가는 것처럼 보여져서 이 방법을 \"경사하강법\"이라고 한다\n",
    "\n",
    "\n",
    "<img src='./imgs/경사하강법1.png' width='500'>\n",
    "<img src='./imgs/경사하강법2.png' width='500'>\n",
    "\n"
   ]
  },
  {
   "cell_type": "code",
   "execution_count": 3,
   "metadata": {
    "colab": {
     "base_uri": "https://localhost:8080/",
     "height": 197
    },
    "colab_type": "code",
    "executionInfo": {
     "elapsed": 654,
     "status": "ok",
     "timestamp": 1556809450874,
     "user": {
      "displayName": "Hwanhee Kim",
      "photoUrl": "https://lh6.googleusercontent.com/-nodxsDvEvZo/AAAAAAAAAAI/AAAAAAAABHE/Ybrj2myvr5Q/s64/photo.jpg",
      "userId": "04863080312902369470"
     },
     "user_tz": -540
    },
    "id": "SQOfPrld8cde",
    "outputId": "007db597-d430-4e63-a6c4-ed8c5f001233"
   },
   "outputs": [
    {
     "name": "stdout",
     "output_type": "stream",
     "text": [
      "99 -0.10597121186116461 0.10597121186116461\n",
      "199 -0.05339513476368901 0.05339513476368901\n",
      "299 -0.03531489896177166 0.03531489896177166\n",
      "399 -0.026296903454351577 0.026296903454351577\n",
      "499 -0.02091857467369229 0.02091857467369229\n",
      "599 -0.017354086691686223 0.017354086691686223\n",
      "699 -0.014821208278808819 0.014821208278808819\n",
      "799 -0.012930042512630071 0.012930042512630071\n",
      "899 -0.011464759276350782 0.011464759276350782\n",
      "999 -0.010296490513756255 0.010296490513756255\n"
     ]
    }
   ],
   "source": [
    "# (3) 경사 하강법을 이용한 뉴런의 학습\n",
    "#    결국 w 값을 변화시켜서 원하는 결과를 찾아야 한다.\n",
    "#    경사하강법 (Gradient Descent) : w = w + x * a(alpha) * error\n",
    "#    w에 입력값(x)과 학습률(a:alpha)와 에러(error)를 곱한것을 더해주는 것이다.\n",
    "#    학습률 a는 w를 업데이트 하는 정도로 설정하되, 큰 값으로 설정하면 과도한 학습으로 적정 수치를 벗어날 수 있고,\n",
    "#    너무 작은 값으로 설정하면 학습 속도가 느려질 수 있다\n",
    "#    여기서는 a=0.1로 설정한다\n",
    "\n",
    "x = 1\n",
    "y = 0\n",
    "w = tf.random.normal([1],0,1)\n",
    "for i in range(1000):\n",
    "    output = sigmoid(x * w)\n",
    "    error = y - output\n",
    "    w = w + x * 0.1 * error\n",
    "    \n",
    "    if i % 100 == 99:\n",
    "        print(i, error, output)"
   ]
  },
  {
   "cell_type": "markdown",
   "metadata": {},
   "source": []
  },
  {
   "cell_type": "markdown",
   "metadata": {},
   "source": [
    "## (2) 입력값 x=0 일 때 출력값 y=1 을 얻는 뉴런의 학습 (위와 반대로)"
   ]
  },
  {
   "cell_type": "code",
   "execution_count": 4,
   "metadata": {
    "colab": {
     "base_uri": "https://localhost:8080/",
     "height": 197
    },
    "colab_type": "code",
    "executionInfo": {
     "elapsed": 885,
     "status": "ok",
     "timestamp": 1556809452957,
     "user": {
      "displayName": "Hwanhee Kim",
      "photoUrl": "https://lh6.googleusercontent.com/-nodxsDvEvZo/AAAAAAAAAAI/AAAAAAAABHE/Ybrj2myvr5Q/s64/photo.jpg",
      "userId": "04863080312902369470"
     },
     "user_tz": -540
    },
    "id": "v6QTKN-Y_Pej",
    "outputId": "eab797bb-27cf-4e76-e9e0-cfa33663b48e"
   },
   "outputs": [
    {
     "name": "stdout",
     "output_type": "stream",
     "text": [
      "99 0.5 0.5\n",
      "199 0.5 0.5\n",
      "299 0.5 0.5\n",
      "399 0.5 0.5\n",
      "499 0.5 0.5\n",
      "599 0.5 0.5\n",
      "699 0.5 0.5\n",
      "799 0.5 0.5\n",
      "899 0.5 0.5\n",
      "999 0.5 0.5\n"
     ]
    }
   ],
   "source": [
    "\n",
    "x = 0\n",
    "y = 1\n",
    "w = tf.random.normal([1],0,1)\n",
    "\n",
    "for i in range(1000):\n",
    "    output = sigmoid(x * w)\n",
    "    error = y - output\n",
    "    w = w + x * 0.1 * error\n",
    "    \n",
    "    if i % 100 == 99:\n",
    "        print(i, error, output)\n",
    "\n",
    "# error값도 출력값도 0,5로 변하지 않다. x=0이기 때문이다.\n",
    "# 이럴 경우 편향(bias)를 뉴런에 넣는다. 그래서 입력값으로 0을 받았을 때 뉴런이 아무것도 배우지 못하는 상황을 방지한다.\n",
    "# 보편적으로 편향의 입력을 1로 넣는다.\n",
    "# Y = f (X*w + 1 * b)"
   ]
  },
  {
   "cell_type": "markdown",
   "metadata": {},
   "source": [
    "## (3) 편향 (bias)\n",
    "\n",
    "[ 편향을 더해진 뉴런의 계산식 ]\n",
    "\n",
    "<img src='./imgs/활성화함수2.png' width='400' height='250'>\n",
    "\n",
    "[ 참고 ] [편향(bias)에 대해](https://blog.ncsoft.com/%ea%b2%8c%ec%9e%84-%eb%94%94%ec%9e%90%ec%9d%b8-%eb%a0%88%eb%b2%a8%ec%97%85-6-%ec%97%91%ec%85%80%eb%a1%9c-%ec%89%bd%ea%b2%8c-%ec%9d%b4%ed%95%b4%ed%95%98%eb%8a%94-%eb%94%a5%eb%9f%ac%eb%8b%9d-bias/)\n"
   ]
  },
  {
   "cell_type": "code",
   "execution_count": 5,
   "metadata": {
    "colab": {
     "base_uri": "https://localhost:8080/",
     "height": 197
    },
    "colab_type": "code",
    "executionInfo": {
     "elapsed": 597,
     "status": "ok",
     "timestamp": 1557401303125,
     "user": {
      "displayName": "Hwanhee Kim",
      "photoUrl": "https://lh6.googleusercontent.com/-nodxsDvEvZo/AAAAAAAAAAI/AAAAAAAABHE/Ybrj2myvr5Q/s64/photo.jpg",
      "userId": "04863080312902369470"
     },
     "user_tz": -540
    },
    "id": "RDkgV0si_CEM",
    "outputId": "bfc07d0d-f6c4-480a-c8d9-c3c98cae7b83"
   },
   "outputs": [
    {
     "name": "stdout",
     "output_type": "stream",
     "text": [
      "99 0.09999800088411948 0.9000019991158805\n",
      "199 0.0517536231750354 0.9482463768249646\n",
      "299 0.034576664896309395 0.9654233351036906\n",
      "399 0.0258818541625101 0.9741181458374899\n",
      "499 0.020653736972079173 0.9793462630279208\n",
      "599 0.017170817546235284 0.9828291824537647\n",
      "699 0.014687008276006774 0.9853129917239932\n",
      "799 0.012827601127748056 0.9871723988722519\n",
      "899 0.011384065540136157 0.9886159344598638\n",
      "999 0.010231276396311162 0.9897687236036888\n"
     ]
    }
   ],
   "source": [
    "# (5) x=0 일 때 y=1 을 얻는 뉴런의 학습에 편향을 더함\n",
    "# 보편적으로 편향의 입력을 1로 넣는다.\n",
    "# Y = f (X*w + 1 * b)\n",
    "\n",
    "x = 0\n",
    "y = 1\n",
    "w = tf.random.normal([1],0,1)\n",
    "b = tf.random.normal([1],0,1)\n",
    "\n",
    "for i in range(1000):\n",
    "    output = sigmoid(x * w + 1 * b)\n",
    "    error = y - output\n",
    "    w = w + x * 0.1 * error\n",
    "    b = b + 1 * 0.1 * error\n",
    "    \n",
    "    if i % 100 == 99:\n",
    "        print(i, error, output)\n",
    "\n",
    "# 결과적으로 error는 0에 가까워지고, output 기대출력은 1에 가까워진다."
   ]
  },
  {
   "cell_type": "markdown",
   "metadata": {
    "colab_type": "text",
    "id": "6LBFLGQsUR2w"
   },
   "source": [
    "---\n",
    "## 2. 신경망 네트워크 (1) AND\n",
    "\n",
    "<img src='./imgs/xor.jpg' width='500' height='300'>\n",
    "\n",
    "<img src='./imgs/활성화함수3.png' width='400' height='250'>"
   ]
  },
  {
   "cell_type": "code",
   "execution_count": 6,
   "metadata": {
    "colab": {
     "base_uri": "https://localhost:8080/",
     "height": 197
    },
    "colab_type": "code",
    "executionInfo": {
     "elapsed": 3175,
     "status": "ok",
     "timestamp": 1557402692825,
     "user": {
      "displayName": "Hwanhee Kim",
      "photoUrl": "https://lh6.googleusercontent.com/-nodxsDvEvZo/AAAAAAAAAAI/AAAAAAAABHE/Ybrj2myvr5Q/s64/photo.jpg",
      "userId": "04863080312902369470"
     },
     "user_tz": -540
    },
    "id": "o5zrs_IeB6gn",
    "outputId": "5743cab1-248d-4714-fea1-07c2dcc7702c"
   },
   "outputs": [
    {
     "name": "stdout",
     "output_type": "stream",
     "text": [
      "199 -0.11639897751477032\n",
      "399 -0.06779792238405273\n",
      "599 -0.04773766726429059\n",
      "799 -0.03672825326192064\n",
      "999 -0.029788600011100806\n",
      "1199 -0.0250240647365181\n",
      "1399 -0.02155707187386537\n",
      "1599 -0.0189242339159136\n",
      "1799 -0.016856677310085645\n",
      "1999 -0.015192819222059428\n"
     ]
    }
   ],
   "source": [
    "# (1) 첫번째 신경망 네트워크 : AND\n",
    "import numpy as np\n",
    "x = np.array([[1,1], [1,0], [0,1], [0,0]])\n",
    "y = np.array([[1], [0], [0], [0]])\n",
    "w = tf.random.normal([2],0,1)  # shape=2 (w 2개 필요),   mean=0.0,   stddev=1.0,\n",
    "b = tf.random.normal([1],0,1)\n",
    "b_x = 1\n",
    "\n",
    "\n",
    "# w, b 값 확인\n",
    "# print('w:', w)\n",
    "# print('b:', b)\n",
    "# 보편적으로 편향의 입력을 1로 넣는다.\n",
    "# y = f (x*w + 1 * b)\n",
    "\n",
    "for i in range(2000):\n",
    "    error_sum = 0\n",
    "    for j in range(4):\n",
    "        output = sigmoid(np.sum(x[j]*w)+b_x*b)\n",
    "        error = y[j][0] - output\n",
    "        w = w + x[j] * 0.1 * error\n",
    "        b = b + b_x * 0.1 * error\n",
    "        error_sum += error\n",
    "        \n",
    "    if i % 200 == 199:\n",
    "        print(i, error_sum)"
   ]
  },
  {
   "cell_type": "code",
   "execution_count": 7,
   "metadata": {
    "colab": {
     "base_uri": "https://localhost:8080/",
     "height": 89
    },
    "colab_type": "code",
    "executionInfo": {
     "elapsed": 984,
     "status": "ok",
     "timestamp": 1557402695010,
     "user": {
      "displayName": "Hwanhee Kim",
      "photoUrl": "https://lh6.googleusercontent.com/-nodxsDvEvZo/AAAAAAAAAAI/AAAAAAAABHE/Ybrj2myvr5Q/s64/photo.jpg",
      "userId": "04863080312902369470"
     },
     "user_tz": -540
    },
    "id": "l6maf-59at7S",
    "outputId": "96f9185f-f484-400c-b139-32b57e92bd49"
   },
   "outputs": [
    {
     "name": "stdout",
     "output_type": "stream",
     "text": [
      "X: [1 1] Y: [1] Output: 0.9645315026178758\n",
      "X: [1 0] Y: [0] Output: 0.025132418939323536\n",
      "X: [0 1] Y: [0] Output: 0.025210074870733606\n",
      "X: [0 0] Y: [0] Output: 2.45169975831276e-05\n"
     ]
    }
   ],
   "source": [
    "#  (2) AND 네트워크의 평가\n",
    "for i in range(4):\n",
    "    print('X:', x[i], 'Y:', y[i], 'Output:', sigmoid(np.sum(x[i]*w)+b))\n",
    "    \n",
    "# 마지막 결과값은 지수값이다.    "
   ]
  },
  {
   "cell_type": "markdown",
   "metadata": {
    "colab_type": "text",
    "id": "GYepj949D6nc"
   },
   "source": [
    "## 2. 신경망 네트워크 : (2) OR"
   ]
  },
  {
   "cell_type": "code",
   "execution_count": 8,
   "metadata": {
    "colab": {
     "base_uri": "https://localhost:8080/",
     "height": 197
    },
    "colab_type": "code",
    "executionInfo": {
     "elapsed": 2656,
     "status": "ok",
     "timestamp": 1557707165225,
     "user": {
      "displayName": "Hwanhee Kim",
      "photoUrl": "https://lh6.googleusercontent.com/-nodxsDvEvZo/AAAAAAAAAAI/AAAAAAAABHE/Ybrj2myvr5Q/s64/photo.jpg",
      "userId": "04863080312902369470"
     },
     "user_tz": -540
    },
    "id": "orVUfaGAXEr5",
    "outputId": "043c8e84-cf11-4432-ef50-aee3e69258f8"
   },
   "outputs": [
    {
     "name": "stdout",
     "output_type": "stream",
     "text": [
      "199 -0.04507016247424514\n",
      "399 -0.024548026080317795\n",
      "599 -0.01677428211794542\n",
      "799 -0.01269955781771262\n",
      "999 -0.010200403290649071\n",
      "1199 -0.008514505355032995\n",
      "1399 -0.00730262450443428\n",
      "1599 -0.00638969062357992\n",
      "1799 -0.005678707176270285\n",
      "1999 -0.005107635840061034\n"
     ]
    }
   ],
   "source": [
    "# (1) 두번째 신경망 네트워크 : OR\n",
    "import numpy as np\n",
    "x = np.array([[1,1], [1,0], [0,1], [0,0]])\n",
    "y = np.array([[1], [1], [1], [0]])\n",
    "w = tf.random.normal([2],0,1)\n",
    "b = tf.random.normal([1],0,1)\n",
    "b_x = 1\n",
    "\n",
    "for i in range(2000):\n",
    "    error_sum = 0\n",
    "    for j in range(4):\n",
    "        output = sigmoid(np.sum(x[j]*w)+b_x*b)\n",
    "        error = y[j][0] - output\n",
    "        w = w + x[j] * 0.1 * error\n",
    "        b = b + b_x * 0.1 * error\n",
    "        error_sum += error\n",
    "        \n",
    "    if i % 200 == 199:\n",
    "        print(i, error_sum)"
   ]
  },
  {
   "cell_type": "code",
   "execution_count": 9,
   "metadata": {
    "colab": {
     "base_uri": "https://localhost:8080/",
     "height": 89
    },
    "colab_type": "code",
    "executionInfo": {
     "elapsed": 639,
     "status": "ok",
     "timestamp": 1557707434897,
     "user": {
      "displayName": "Hwanhee Kim",
      "photoUrl": "https://lh6.googleusercontent.com/-nodxsDvEvZo/AAAAAAAAAAI/AAAAAAAABHE/Ybrj2myvr5Q/s64/photo.jpg",
      "userId": "04863080312902369470"
     },
     "user_tz": -540
    },
    "id": "-iXp-4VflRwi",
    "outputId": "e56e22ee-ebc3-4772-b83c-9a8e5c7db961"
   },
   "outputs": [
    {
     "name": "stdout",
     "output_type": "stream",
     "text": [
      "X: [1 1] Y: [1] Output: 0.9999972736337336\n",
      "X: [1 0] Y: [1] Output: 0.9898611022244277\n",
      "X: [0 1] Y: [1] Output: 0.9898601642066952\n",
      "X: [0 0] Y: [0] Output: 0.025326267414769028\n"
     ]
    }
   ],
   "source": [
    "# (2) OR 네트워크의 평가\n",
    "for i in range(4):\n",
    "    print('X:', x[i], 'Y:', y[i], 'Output:', sigmoid(np.sum(x[i]*w)+b))"
   ]
  },
  {
   "cell_type": "markdown",
   "metadata": {
    "colab_type": "text",
    "id": "QgOO48DlEELV"
   },
   "source": [
    "## 3. 세번째 신경망 네트워크 : (3) XOR"
   ]
  },
  {
   "cell_type": "code",
   "execution_count": 10,
   "metadata": {
    "colab": {
     "base_uri": "https://localhost:8080/",
     "height": 197
    },
    "colab_type": "code",
    "executionInfo": {
     "elapsed": 2494,
     "status": "ok",
     "timestamp": 1557708084919,
     "user": {
      "displayName": "Hwanhee Kim",
      "photoUrl": "https://lh6.googleusercontent.com/-nodxsDvEvZo/AAAAAAAAAAI/AAAAAAAABHE/Ybrj2myvr5Q/s64/photo.jpg",
      "userId": "04863080312902369470"
     },
     "user_tz": -540
    },
    "id": "50OujnLhouap",
    "outputId": "c5b01dad-39e7-467c-b677-a52a82a20abe"
   },
   "outputs": [
    {
     "name": "stdout",
     "output_type": "stream",
     "text": [
      "199 0.004100338290069838\n",
      "399 0.00016667215847199213\n",
      "599 6.776512051942518e-06\n",
      "799 2.671139394117006e-07\n",
      "999 3.7228422566926156e-09\n",
      "1199 1.8614210173240053e-09\n",
      "1399 1.8614210173240053e-09\n",
      "1599 1.8614210173240053e-09\n",
      "1799 1.8614210173240053e-09\n",
      "1999 1.8614210173240053e-09\n"
     ]
    }
   ],
   "source": [
    "# (1) 세번째 신경망 네트워크 : XOR\n",
    "import numpy as np\n",
    "x = np.array([[1,1], [1,0], [0,1], [0,0]])\n",
    "y = np.array([[0], [1], [1], [0]])\n",
    "w = tf.random.normal([2],0,1)\n",
    "b = tf.random.normal([1],0,1)\n",
    "b_x = 1\n",
    "\n",
    "for i in range(2000):\n",
    "    error_sum = 0\n",
    "    for j in range(4):\n",
    "        output = sigmoid(np.sum(x[j]*w)+b_x*b)\n",
    "        error = y[j][0] - output\n",
    "        w = w + x[j] * 0.1 * error\n",
    "        b = b + b_x * 0.1 * error\n",
    "        error_sum += error\n",
    "        \n",
    "    if i % 200 == 199:\n",
    "        print(i, error_sum)"
   ]
  },
  {
   "cell_type": "code",
   "execution_count": 11,
   "metadata": {
    "colab": {
     "base_uri": "https://localhost:8080/",
     "height": 89
    },
    "colab_type": "code",
    "executionInfo": {
     "elapsed": 637,
     "status": "ok",
     "timestamp": 1557708105621,
     "user": {
      "displayName": "Hwanhee Kim",
      "photoUrl": "https://lh6.googleusercontent.com/-nodxsDvEvZo/AAAAAAAAAAI/AAAAAAAABHE/Ybrj2myvr5Q/s64/photo.jpg",
      "userId": "04863080312902369470"
     },
     "user_tz": -540
    },
    "id": "K77eQ8FYo04H",
    "outputId": "6fbb92d4-5d90-4dc6-d63e-9fee59d17ef9"
   },
   "outputs": [
    {
     "name": "stdout",
     "output_type": "stream",
     "text": [
      "X: [1 1] Y: [0] Output: 0.5128176323940516\n",
      "X: [1 0] Y: [1] Output: 0.5128176314633411\n",
      "X: [0 1] Y: [1] Output: 0.4999999990686774\n",
      "X: [0 0] Y: [0] Output: 0.49999999813735485\n"
     ]
    }
   ],
   "source": [
    "# (2) XOR 네트워크의 평가\n",
    "for i in range(4):\n",
    "    print('X:', x[i], 'Y:', y[i], 'Output:', sigmoid(np.sum(x[i]*w)+b))"
   ]
  },
  {
   "cell_type": "code",
   "execution_count": 12,
   "metadata": {
    "colab": {
     "base_uri": "https://localhost:8080/",
     "height": 53
    },
    "colab_type": "code",
    "executionInfo": {
     "elapsed": 665,
     "status": "ok",
     "timestamp": 1557711429852,
     "user": {
      "displayName": "Hwanhee Kim",
      "photoUrl": "https://lh6.googleusercontent.com/-nodxsDvEvZo/AAAAAAAAAAI/AAAAAAAABHE/Ybrj2myvr5Q/s64/photo.jpg",
      "userId": "04863080312902369470"
     },
     "user_tz": -540
    },
    "id": "0HsT3BKW1ajx",
    "outputId": "d135ba44-6caa-46e6-facf-802fb75cdce8"
   },
   "outputs": [
    {
     "name": "stdout",
     "output_type": "stream",
     "text": [
      "w: tf.Tensor([5.1281769e-02 3.7252903e-09], shape=(2,), dtype=float32)\n",
      "b: tf.Tensor([-7.450581e-09], shape=(1,), dtype=float32)\n"
     ]
    }
   ],
   "source": [
    "# (3) XOR 네트워크의 w, b 값 확인\n",
    "print('w:', w)\n",
    "print('b:', b)\n"
   ]
  },
  {
   "cell_type": "markdown",
   "metadata": {},
   "source": [
    "[ 결과 분석 ] \n",
    "\n",
    "1. w는 약 0.512, 0.000000003725 이고, b는 -0.000000000745 이다.\n",
    "\n",
    "    w에 x값들이 순차적으로 곱해지기 때문에 첫번째 입력값이 두번째입력보다 큰 영향을 끼치고\n",
    "    편향(b)는 두번째 입력과 미슷하게 거의 영향이 없는 것을 알 수 있다.\n",
    "    \n",
    "2. 결과 output을 보면 별 차이가 없음을 알 수 있다  \n",
    "\n",
    "\n",
    "* 인공지능(퍼셉트론)에서의 XOR 문제  \n",
    "<img src='./imgs/xor.jpg' width='500' height='300'>\n",
    "<img src='./imgs/xor2.jpg' width='500' height='300'>\n",
    "\n",
    "[출처] [모두의 딥러닝](https://thebook.io/080228/part03/ch06/03/)\n",
    "\n"
   ]
  }
 ],
 "metadata": {
  "colab": {
   "collapsed_sections": [],
   "name": "Chapter3.ipynb",
   "provenance": [],
   "toc_visible": true
  },
  "kernelspec": {
   "display_name": "Python 3",
   "language": "python",
   "name": "python3"
  },
  "language_info": {
   "codemirror_mode": {
    "name": "ipython",
    "version": 3
   },
   "file_extension": ".py",
   "mimetype": "text/x-python",
   "name": "python",
   "nbconvert_exporter": "python",
   "pygments_lexer": "ipython3",
   "version": "3.8.8"
  }
 },
 "nbformat": 4,
 "nbformat_minor": 1
}
