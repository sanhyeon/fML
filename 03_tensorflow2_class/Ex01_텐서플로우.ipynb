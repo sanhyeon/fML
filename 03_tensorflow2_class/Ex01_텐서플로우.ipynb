{
 "cells": [
  {
   "cell_type": "markdown",
   "metadata": {},
   "source": [
    "## [참고] 간단한 용어정리\n",
    "\n",
    "+ Dense : 분석 모델의 층(layer)\n",
    "\n",
    "<img src='./imgs/Dense.PNG' width='500'/>\n",
    "\n",
    "+ activation : 다음층으로 어떻게 값을 넘길지 결정하는 부분\n",
    "\n",
    "             - relu / sigmoid 많이 사용\n",
    "             \n",
    "+ loss : 한 번 신경망이 실행될 때마다 오차 값을 추적하는 함수\n",
    "\n",
    "+ optimizer : 오차를 어떻게 줄여 나갈 (손실을 낮추기 위해) 최적화 방법\n",
    "\n",
    "+ matrics : 평가지표\n",
    "\n",
    "\n",
    "#### [ activation ]\n",
    "\n",
    "<img src='./imgs/relu.png' width='500'/>\n",
    "\n",
    "#### [ optimizer ]\n",
    "<img src='./imgs/optimizer.jpg' width='600'/>\n",
    "\n",
    "\n",
    "[ 그림출처 ] 모두의딥러닝\n"
   ]
  },
  {
   "cell_type": "markdown",
   "metadata": {},
   "source": [
    "##  [ 중요 매개변수 ]\n",
    "\n",
    "\n",
    "### [참고] [Tensorflow2에서의 Keras](https://www.tensorflow.org/guide/keras/overview?hl=ko)\n",
    " \n",
    "\n",
    "\n",
    "### - <font color='blue'> tf.keras.Model.compile에는 세 개의 중요한 매개변수 </font>\n",
    "\n",
    "+ <font color='red'>optimizer</font>: 훈련 과정을 설정합니다. tf.keras.optimizers.Adam이나 tf.keras.optimizers.SGD와 같은 tf.keras.optimizers 아래의 옵티마이저 객체를 전달합니다. 기본 매개변수를 사용할 경우 'adam'이나 'sgd'와 같이 문자열로 지정할 수도 있습니다.\n",
    "    - 케라스에서 지원하는 옵티마이저 : SGD, Adam, Adagrad, Nadam, RMSprop, Adadelta, Adamax, Ftrl . . .\n",
    "    - Ir (Learning rate : 학습률)\n",
    "\n",
    "+ <font color='red'>loss</font>: 최적화 과정에서 최소화될 손실 함수(loss function)를 설정합니다. 평균 제곱 오차(mse)와 categorical_crossentropy, binary_crossentropy 등이 자주 사용됩니다. 손실 함수의 이름을 지정하거나 tf.keras.losses 모듈 아래의 호출 가능한 객체를 전달할 수 있습니다.\n",
    "\n",
    "+ <font color='red'>metrics</font>: 분류 모델에 대한 평가지표로 정확도를 나타내는 'accuracy' 또는 'acc'가 많이 사용\n",
    "\n",
    "\n",
    "    - 옵티마이저 : https://www.tensorflow.org/api_docs/python/tf/keras/optimizers\n",
    "    - 손실함수 :  https://www.tensorflow.org/api_docs/python/tf/keras/losses\n",
    "    - 평가함수 :  https://www.tensorflow.org/api_docs/python/tf/keras/metrics\n",
    "\n",
    "\n",
    "### -<font color='blue'> tf.keras.Model.fit에는 세 개의 중요한 매개변수</font>\n",
    "\n",
    "+ <font color='red'>epochs:</font> 훈련은 에포크(epoch)로 구성됩니다. 한 에포크는 전체 입력 데이터를 한번 순회하는 것입니다(작은 배치로 나누어 수행됩니다).\n",
    "+ <font color='red'>batch_size:</font> 넘파이 데이터를 전달하면 모델은 데이터를 작은 배치로 나누고 훈련 과정에서 이 배치를 순회합니다. 이 정수 값은 배치의 크기를 지정합니다. 전체 샘플 개수가 배치 크기로 나누어 떨어지지 않으면 마지막 배치의 크기는 더 작을 수 있습니다.\n",
    "+ <font color='red'>validation_data:</font> 모델의 프로토타입(prototype)을 만들 때는 검증 데이터(validation data)에서 간편하게 성능을 모니터링해야 합니다. 입력과 레이블(label)의 튜플을 이 매개변수로 전달하면 에포크가 끝날 때마다 추론 모드(inference mode)에서 전달된 데이터의 손실과 측정 지표를 출력합니다.\n",
    "+ verbose = 0 으로 지정하면 훈련중간과정을 출력하지 않는다.\n",
    "\n",
    "+ [참고] (https://tykimos.github.io/2017/03/25/Fit_Talk/)"
   ]
  },
  {
   "cell_type": "markdown",
   "metadata": {},
   "source": [
    "---\n",
    "---\n",
    "\n",
    "\n",
    "##  tf.keras 를 이용한 XOR 네트워크 계산\n",
    "\n",
    "\n",
    "\n",
    "+ tf.keras.Sequential : 순차적으로(sequential)로 뉴런과 뉴런이 합쳐진 단위인 레이어를 일직선으로 배치한 것\n",
    "\n",
    "    [ Sequential 일직선 구조 ]\n",
    "<img src='./imgs/1_Sequence구조.png' width='400' height='250'>\n",
    "\n",
    "---\n",
    "+ tf.layers.Dense : 가장 기본적인 레이어로, 레이어의 입력과 출력 사이에 있는 모든 뉴런이 연결되는 레이어\n",
    "\n",
    "    [ 2-레이어 XOR 구조 ]\n",
    "<img src='./imgs/2_레이어XOR.png' width='400' height='250'>\n",
    "\n",
    "        네트워크 구조에서 실선화살표는 가중치를 나타낸다.\n",
    "        입력에서 4개의 화살표가,\n",
    "        첫번째 레이어에서 두번째 레이어로 2개의 화살표가\n",
    "        두번째 레이어의 결과로 활성함수를 취한 결과가 바로 출력되는다. (여기 점선은 가중치가 아니다 )\n",
    "        \n",
    "    [ 가중치 추가한 구조 ]\n",
    "<img src='./imgs/3_가중치추가한레이어.png' width='400' height='250'>    \n",
    "    \n",
    "---\n"
   ]
  },
  {
   "cell_type": "markdown",
   "metadata": {},
   "source": [
    " \n",
    "\n",
    "## <font color='red'>프로그래밍 순서</font>\n",
    "\n",
    "\n",
    "### 1. 데이타확인\n",
    "### 2. 모델을 설정 ( Sequence )\n",
    "### 3. 모델 실행   ( compile )\n",
    "### 4. 모델에 학습 ( fit )\n",
    "###  5 검증하기 (evaluate )\n",
    "### 5. 예측하기    ( predict )\n",
    "\n",
    "---\n"
   ]
  },
  {
   "cell_type": "code",
   "execution_count": null,
   "metadata": {
    "scrolled": true
   },
   "outputs": [],
   "source": [
    "# (1) tf.keras 를 이용한 XOR 네트워크 계산\n",
    "\n",
    "import tensorflow as tf\n",
    "import numpy as np\n",
    "\n",
    "# 1. 데이타 확인\n",
    "x = np.array([[1,1], [1,0], [0,1], [0,0]])\n",
    "y = np.array([[0], [1], [1], [0]])\n",
    "\n",
    "# 2. 모델을 설정\n",
    "\n",
    "\n",
    "\n",
    "# 3. 모델 실행\n",
    "\n",
    "\n",
    "\n",
    "# 모델 요약\n",
    "\n"
   ]
  },
  {
   "cell_type": "code",
   "execution_count": null,
   "metadata": {},
   "outputs": [],
   "source": [
    "# 4. 모델에 학습\n"
   ]
  },
  {
   "cell_type": "code",
   "execution_count": null,
   "metadata": {},
   "outputs": [],
   "source": [
    "# 4.5  검증하기\n",
    "\n"
   ]
  },
  {
   "cell_type": "code",
   "execution_count": null,
   "metadata": {},
   "outputs": [],
   "source": [
    "# 5. 예측하기\n"
   ]
  },
  {
   "cell_type": "markdown",
   "metadata": {},
   "source": [
    "### 간단한 시각화 "
   ]
  },
  {
   "cell_type": "code",
   "execution_count": null,
   "metadata": {
    "scrolled": true
   },
   "outputs": [],
   "source": [
    "# 5.2-레이어 XOR 네트워크의 loss 변화를 선 그래프로 표시\n",
    "import matplotlib.pyplot as plt\n",
    "\n"
   ]
  },
  {
   "cell_type": "markdown",
   "metadata": {},
   "source": [
    "[ 그래프 결과 분석 ]\n",
    "\n",
    "처음에는 손실이 서서히 감소하다가 어느 시점부터 급격하게 감소하고 나중에는 거의 감소하지 않는다\n",
    "\n",
    "참고로 plt.plot()에 하나의 변수만 전달하면 그 변수를 y로 간주하고,\n",
    "x는 자동으로 range(len(y))로 하여 값을 넣고 그래프를 그린다."
   ]
  },
  {
   "cell_type": "code",
   "execution_count": null,
   "metadata": {},
   "outputs": [],
   "source": []
  }
 ],
 "metadata": {
  "kernelspec": {
   "display_name": "Python 3",
   "language": "python",
   "name": "python3"
  },
  "language_info": {
   "codemirror_mode": {
    "name": "ipython",
    "version": 3
   },
   "file_extension": ".py",
   "mimetype": "text/x-python",
   "name": "python",
   "nbconvert_exporter": "python",
   "pygments_lexer": "ipython3",
   "version": "3.8.8"
  }
 },
 "nbformat": 4,
 "nbformat_minor": 4
}
