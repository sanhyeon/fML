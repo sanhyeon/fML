{
 "cells": [
  {
   "cell_type": "markdown",
   "id": "a213f448",
   "metadata": {},
   "source": [
    "### 1. 데이타 로드"
   ]
  },
  {
   "cell_type": "code",
   "execution_count": 10,
   "id": "c67fc161",
   "metadata": {},
   "outputs": [
    {
     "name": "stdout",
     "output_type": "stream",
     "text": [
      "2.5.0\n",
      "(60000, 28, 28) (60000,)\n",
      "(10000, 28, 28) (10000,)\n"
     ]
    }
   ],
   "source": [
    "import tensorflow as tf\n",
    "from tensorflow.keras import datasets\n",
    "\n",
    "print(tf.__version__)\n",
    "\n",
    "# 손글씨 이미지 데이타 \n",
    "(x_train, y_train), (x_test, y_test) = datasets.mnist.load_data()\n",
    "print(x_train.shape, y_train.shape)\n",
    "print(x_test.shape, y_test.shape)"
   ]
  },
  {
   "cell_type": "code",
   "execution_count": 4,
   "id": "d7100e6c",
   "metadata": {
    "collapsed": true
   },
   "outputs": [
    {
     "data": {
      "text/plain": [
       "<matplotlib.image.AxesImage at 0x194cebf96a0>"
      ]
     },
     "execution_count": 4,
     "metadata": {},
     "output_type": "execute_result"
    },
    {
     "data": {
      "image/png": "[encoded data removed]",
      "text/plain": [
       "<Figure size 432x288 with 1 Axes>"
      ]
     },
     "metadata": {
      "needs_background": "light"
     },
     "output_type": "display_data"
    }
   ],
   "source": [
    "# 샘플 이미지 확인\n",
    "import matplotlib.pylab as plt\n",
    "\n",
    "plt.imshow(x_train[0], cmap='gray')\n"
   ]
  },
  {
   "cell_type": "markdown",
   "id": "c9c3a15d",
   "metadata": {},
   "source": [
    "### 2. 데이타 전처리"
   ]
  },
  {
   "cell_type": "code",
   "execution_count": 11,
   "id": "9be55946",
   "metadata": {},
   "outputs": [
    {
     "name": "stdout",
     "output_type": "stream",
     "text": [
      "0.0 1.0\n",
      "0.0 1.0\n"
     ]
    }
   ],
   "source": [
    "#  정규화\n",
    "x_train = x_train / 255.0\n",
    "x_test = x_test / 255.0\n",
    "\n",
    "print(x_train.min(), x_train.max())\n",
    "print(x_test.min(), x_test.max())"
   ]
  },
  {
   "cell_type": "markdown",
   "id": "cd61708c",
   "metadata": {},
   "source": [
    "채널추가\n",
    "\n",
    "   - mnist 데이터셋은 색상을 나타내는 채널이 1개인 모노 컬러 이미지로 구성된다\n",
    "   - CNN 모델에 주입하기 위해 색상을 나타내는 채널을 추가한다\n",
    "   - (60000, 28, 28) 형태가 (60000, 28, 28, 1)로 변환한다\n"
   ]
  },
  {
   "cell_type": "code",
   "execution_count": 13,
   "id": "8f0a8224",
   "metadata": {},
   "outputs": [
    {
     "name": "stdout",
     "output_type": "stream",
     "text": [
      "(60000, 28, 28) (10000, 28, 28)\n",
      "(60000, 28, 28, 1) (10000, 28, 28, 1)\n"
     ]
    }
   ],
   "source": [
    "# 채널추가\n",
    "print(x_train.shape, x_test.shape)\n",
    "\n",
    "x_train_in = x_train[..., tf.newaxis]\n",
    "x_test_in = x_test[..., tf.newaxis]\n",
    "\n",
    "print(x_train_in.shape, x_test_in.shape)"
   ]
  },
  {
   "cell_type": "markdown",
   "id": "15853ac7",
   "metadata": {},
   "source": [
    "## 3. 모델 생성 및 학습(훈련)\n",
    "\n",
    "\n",
    "\n",
    "<img src='imgs/cnn구조.PNG'>\n",
    "\n",
    "\n",
    "[그림] 파이썬 딥러닝 텐서플로 (정보문화사)"
   ]
  },
  {
   "cell_type": "code",
   "execution_count": 24,
   "id": "48ca402b",
   "metadata": {},
   "outputs": [],
   "source": [
    "model = tf.keras.Sequential([\n",
    "    # Convolution  적용\n",
    "    tf.keras.layers.Conv2D(32, kernel_size=(3, 3), activation='relu',input_shape=(28,28,1), name='conv'),\n",
    "    # Max Pooling 적용\n",
    "    tf.keras.layers.MaxPooling2D(pool_size=(2, 2), name='pool'),\n",
    "    # 출력층\n",
    "    tf.keras.layers.Flatten(),\n",
    "    tf.keras.layers.Dense(10, activation='softmax')\n",
    "])"
   ]
  },
  {
   "cell_type": "code",
   "execution_count": 25,
   "id": "d346f29d",
   "metadata": {},
   "outputs": [],
   "source": [
    "model.compile(optimizer='adam',loss=\"sparse_categorical_crossentropy\", metrics=['accuracy'])"
   ]
  },
  {
   "cell_type": "code",
   "execution_count": 26,
   "id": "c4d34718",
   "metadata": {
    "scrolled": true
   },
   "outputs": [
    {
     "name": "stdout",
     "output_type": "stream",
     "text": [
      "Epoch 1/10\n",
      "1875/1875 [==============================] - 16s 8ms/step - loss: 0.2143 - accuracy: 0.9399 - val_loss: 0.0840 - val_accuracy: 0.9762\n",
      "Epoch 2/10\n",
      "1875/1875 [==============================] - 16s 8ms/step - loss: 0.0813 - accuracy: 0.9762 - val_loss: 0.0678 - val_accuracy: 0.9774\n",
      "Epoch 3/10\n",
      "1875/1875 [==============================] - 16s 9ms/step - loss: 0.0623 - accuracy: 0.9816 - val_loss: 0.0613 - val_accuracy: 0.9796\n",
      "Epoch 4/10\n",
      "1875/1875 [==============================] - 17s 9ms/step - loss: 0.0506 - accuracy: 0.9850 - val_loss: 0.0547 - val_accuracy: 0.9806\n",
      "Epoch 5/10\n",
      "1875/1875 [==============================] - 18s 9ms/step - loss: 0.0422 - accuracy: 0.9870 - val_loss: 0.0546 - val_accuracy: 0.9825\n",
      "Epoch 6/10\n",
      "1875/1875 [==============================] - 17s 9ms/step - loss: 0.0356 - accuracy: 0.9891 - val_loss: 0.0490 - val_accuracy: 0.9841\n",
      "Epoch 7/10\n",
      "1875/1875 [==============================] - 18s 9ms/step - loss: 0.0294 - accuracy: 0.9912 - val_loss: 0.0528 - val_accuracy: 0.9832\n",
      "Epoch 8/10\n",
      "1875/1875 [==============================] - 17s 9ms/step - loss: 0.0251 - accuracy: 0.9921 - val_loss: 0.0614 - val_accuracy: 0.9805\n",
      "Epoch 9/10\n",
      "1875/1875 [==============================] - 17s 9ms/step - loss: 0.0214 - accuracy: 0.9934 - val_loss: 0.0590 - val_accuracy: 0.9823\n",
      "Epoch 10/10\n",
      "1875/1875 [==============================] - 19s 10ms/step - loss: 0.0178 - accuracy: 0.9948 - val_loss: 0.0579 - val_accuracy: 0.9840\n"
     ]
    }
   ],
   "source": [
    "history = model.fit(x_train_in, y_train, epochs=10, validation_data=(x_test_in, y_test))"
   ]
  },
  {
   "cell_type": "markdown",
   "id": "eccdcf4d",
   "metadata": {},
   "source": [
    "## 4. 정확도"
   ]
  },
  {
   "cell_type": "code",
   "execution_count": 27,
   "id": "b468355f",
   "metadata": {},
   "outputs": [
    {
     "name": "stdout",
     "output_type": "stream",
     "text": [
      "313/313 [==============================] - 1s 3ms/step - loss: 0.0579 - accuracy: 0.9840\n"
     ]
    },
    {
     "data": {
      "text/plain": [
       "[0.05791645497083664, 0.984000027179718]"
      ]
     },
     "execution_count": 27,
     "metadata": {},
     "output_type": "execute_result"
    }
   ],
   "source": [
    "model.evaluate(x_test_in, y_test)"
   ]
  },
  {
   "cell_type": "code",
   "execution_count": null,
   "id": "3d8a1f96",
   "metadata": {},
   "outputs": [],
   "source": []
  },
  {
   "cell_type": "markdown",
   "id": "02d55069",
   "metadata": {},
   "source": [
    "### [ 참고 ] 모델 구조 파악\n",
    "\n",
    "\n",
    "<img src='imgs/cnn구조2.PNG'>\n",
    "\n",
    "\n",
    "- (28,28,1)형태의 입력 텐서가 Conv2D를 거치면서 (26, 26, 32) 텐서형태로 변환한다\n",
    "    - (3,3) 크기의 합성곱 필터를 사용하기 때문에 이미지 가로, 세로 크기가 2개씩 줄어든다\n",
    "    - 서로 다른 32개의 필터를 적용했기 때문에 (26,26) 크기의 특성맵이 32개 생성된다\n",
    "    - 즉 (28,28,1) 이미지에 서로 다른 32개 커널을 적용해서 32가지 종류의 특징을 추출한다\n",
    "   \n",
    "- 풀링 레이어를 거치면서 (13,13,32) 텐서 형태로 변환한다.\n",
    "    - (2,2) 크기의 풀링을 적용하여 이미지 크기가 1/2로 줄어든다\n",
    "    \n",
    "- Flatten 층에서 3차원 텐서를 1차원 텐서로 변환한다\n",
    "    - 13 * 13 * 32로 5408 의 1차원 벡터가 된다\n",
    "    \n",
    "- 출력 노드가 10개인 Dense 레이어로 보내서 최종 값을 분류한다\n"
   ]
  },
  {
   "cell_type": "code",
   "execution_count": 28,
   "id": "037e7736",
   "metadata": {
    "scrolled": true
   },
   "outputs": [
    {
     "name": "stdout",
     "output_type": "stream",
     "text": [
      "Model: \"sequential_4\"\n",
      "_________________________________________________________________\n",
      "Layer (type)                 Output Shape              Param #   \n",
      "=================================================================\n",
      "conv (Conv2D)                (None, 26, 26, 32)        320       \n",
      "_________________________________________________________________\n",
      "pool (MaxPooling2D)          (None, 13, 13, 32)        0         \n",
      "_________________________________________________________________\n",
      "flatten_1 (Flatten)          (None, 5408)              0         \n",
      "_________________________________________________________________\n",
      "dense_1 (Dense)              (None, 10)                54090     \n",
      "=================================================================\n",
      "Total params: 54,410\n",
      "Trainable params: 54,410\n",
      "Non-trainable params: 0\n",
      "_________________________________________________________________\n"
     ]
    }
   ],
   "source": [
    "model.summary()"
   ]
  },
  {
   "cell_type": "code",
   "execution_count": null,
   "id": "b622c85c",
   "metadata": {},
   "outputs": [],
   "source": []
  },
  {
   "cell_type": "markdown",
   "id": "877ec77b",
   "metadata": {},
   "source": []
  },
  {
   "cell_type": "code",
   "execution_count": null,
   "id": "6b3ab7cb",
   "metadata": {},
   "outputs": [],
   "source": []
  },
  {
   "cell_type": "code",
   "execution_count": null,
   "id": "411155a2",
   "metadata": {},
   "outputs": [],
   "source": []
  }
 ],
 "metadata": {
  "kernelspec": {
   "display_name": "Python 3",
   "language": "python",
   "name": "python3"
  },
  "language_info": {
   "codemirror_mode": {
    "name": "ipython",
    "version": 3
   },
   "file_extension": ".py",
   "mimetype": "text/x-python",
   "name": "python",
   "nbconvert_exporter": "python",
   "pygments_lexer": "ipython3",
   "version": "3.8.8"
  }
 },
 "nbformat": 4,
 "nbformat_minor": 5
}
