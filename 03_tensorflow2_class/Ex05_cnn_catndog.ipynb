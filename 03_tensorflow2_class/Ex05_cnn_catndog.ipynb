{
 "cells": [
  {
   "cell_type": "markdown",
   "id": "5620e48f",
   "metadata": {},
   "source": [
    "## <font color='green'> 개와 고양이 이미지 분류하기</font>\n",
    "\n",
    "\n",
    "[ 참고 ] https://codetorial.net/tensorflow/classifying_the_cats_and_dogs.html\n",
    "\n",
    "\n",
    "위의 참고 사이트에서 코드를 복사하며 실행\n",
    "\n",
    "학습시간 상당히 소요\n"
   ]
  },
  {
   "cell_type": "markdown",
   "id": "cebed6d7",
   "metadata": {},
   "source": [
    "### 1. 데이타 준비하기\n",
    "\n",
    "[ 자료다운 ] https://storage.googleapis.com/mledu-datasets/cats_and_dogs_filtered.zip"
   ]
  },
  {
   "cell_type": "code",
   "execution_count": null,
   "id": "59fede78",
   "metadata": {},
   "outputs": [],
   "source": [
    "import os\n",
    "\n",
    "# 기본 경로\n",
    "base_dir = 'dataset/cats_and_dogs_filtered'\n",
    "\n",
    "train_dir = os.path.join(base_dir, 'train')\n",
    "validation_dir = os.path.join(base_dir, 'validation')\n",
    "\n",
    "# 훈련에 사용되는 고양이/개 이미지 경로\n",
    "train_cats_dir = os.path.join(train_dir, 'cats')\n",
    "train_dogs_dir = os.path.join(train_dir, 'dogs')\n",
    "print(train_cats_dir)\n",
    "print(train_dogs_dir)\n",
    "\n",
    "# 테스트에 사용되는 고양이/개 이미지 경로\n",
    "validation_cats_dir = os.path.join(validation_dir, 'cats')\n",
    "validation_dogs_dir = os.path.join(validation_dir, 'dogs')\n",
    "print(validation_cats_dir)\n",
    "print(validation_dogs_dir)"
   ]
  },
  {
   "cell_type": "markdown",
   "id": "7354c18b",
   "metadata": {},
   "source": [
    "### 2. 데이타 살펴보기"
   ]
  },
  {
   "cell_type": "code",
   "execution_count": null,
   "id": "f02910d8",
   "metadata": {},
   "outputs": [],
   "source": [
    "train_cat_fnames = os.listdir( train_cats_dir )\n",
    "train_dog_fnames = os.listdir( train_dogs_dir )\n",
    "\n",
    "print(train_cat_fnames[:5])\n",
    "print(train_dog_fnames[:5])\n",
    "\n",
    "print('Total training cat images :', len(os.listdir(train_cats_dir)))\n",
    "print('Total training dog images :', len(os.listdir(train_dogs_dir)))\n",
    "\n",
    "print('Total validation cat images :', len(os.listdir(validation_cats_dir)))\n",
    "print('Total validation dog images :', len(os.listdir(validation_dogs_dir)))"
   ]
  },
  {
   "cell_type": "markdown",
   "id": "e615b5c1",
   "metadata": {},
   "source": [
    "### 3. 이미지 확인하기"
   ]
  },
  {
   "cell_type": "code",
   "execution_count": null,
   "id": "6a568bc5",
   "metadata": {},
   "outputs": [],
   "source": [
    "%matplotlib inline\n",
    "\n",
    "import matplotlib.image as mpimg\n",
    "import matplotlib.pyplot as plt\n",
    "\n",
    "nrows, ncols = 4, 4\n",
    "pic_index = 0\n",
    "\n",
    "fig = plt.gcf()\n",
    "fig.set_size_inches(ncols*3, nrows*3)\n",
    "\n",
    "pic_index+=8\n",
    "\n",
    "next_cat_pix = [os.path.join(train_cats_dir, fname)\n",
    "                for fname in train_cat_fnames[ pic_index-8:pic_index]]\n",
    "\n",
    "next_dog_pix = [os.path.join(train_dogs_dir, fname)\n",
    "                for fname in train_dog_fnames[ pic_index-8:pic_index]]\n",
    "\n",
    "for i, img_path in enumerate(next_cat_pix+next_dog_pix):\n",
    "    sp = plt.subplot(nrows, ncols, i + 1)\n",
    "    sp.axis('Off')\n",
    "\n",
    "    img = mpimg.imread(img_path)\n",
    "    plt.imshow(img)\n",
    "\n",
    "plt.show()"
   ]
  },
  {
   "cell_type": "markdown",
   "id": "63a7446b",
   "metadata": {},
   "source": [
    "### 4. 모델 구성하기"
   ]
  },
  {
   "cell_type": "code",
   "execution_count": null,
   "id": "21aa970a",
   "metadata": {},
   "outputs": [],
   "source": [
    "import tensorflow as tf\n",
    "\n",
    "\n",
    "model = tf.keras.models.Sequential([\n",
    "  tf.keras.layers.Conv2D(16, (3,3), activation='relu', input_shape=(150, 150, 3)),\n",
    "  tf.keras.layers.MaxPooling2D(2,2),\n",
    "  tf.keras.layers.Conv2D(32, (3,3), activation='relu'),\n",
    "  tf.keras.layers.MaxPooling2D(2,2),\n",
    "  tf.keras.layers.Conv2D(64, (3,3), activation='relu'),\n",
    "  tf.keras.layers.MaxPooling2D(2,2),\n",
    "  tf.keras.layers.Flatten(),\n",
    "  tf.keras.layers.Dense(512, activation='relu'),\n",
    "  tf.keras.layers.Dense(1, activation='sigmoid')\n",
    "])\n",
    "\n",
    "model.summary()"
   ]
  },
  {
   "cell_type": "markdown",
   "id": "da880094",
   "metadata": {},
   "source": [
    "### 5. 모델 컴파일하기"
   ]
  },
  {
   "cell_type": "code",
   "execution_count": null,
   "id": "66baac0f",
   "metadata": {
    "scrolled": true
   },
   "outputs": [],
   "source": [
    "from tensorflow.keras.optimizers import RMSprop\n",
    "\n",
    "model.compile(optimizer=RMSprop(lr=0.001),\n",
    "            loss='binary_crossentropy',\n",
    "            metrics = ['accuracy'])"
   ]
  },
  {
   "cell_type": "markdown",
   "id": "394e95e9",
   "metadata": {},
   "source": [
    "### 6. 이미지 데이터 전처리하기"
   ]
  },
  {
   "cell_type": "code",
   "execution_count": null,
   "id": "e1671694",
   "metadata": {},
   "outputs": [],
   "source": [
    "from tensorflow.keras.preprocessing.image import ImageDataGenerator\n",
    "\n",
    "\n",
    "train_datagen = ImageDataGenerator( rescale = 1.0/255. )\n",
    "test_datagen  = ImageDataGenerator( rescale = 1.0/255. )\n",
    "\n",
    "train_generator = train_datagen.flow_from_directory(train_dir,\n",
    "                                                  batch_size=20,\n",
    "                                                  class_mode='binary',\n",
    "                                                  target_size=(150, 150))\n",
    "validation_generator =  test_datagen.flow_from_directory(validation_dir,\n",
    "                                                       batch_size=20,\n",
    "                                                       class_mode  = 'binary',\n",
    "                                                       target_size = (150, 150))"
   ]
  },
  {
   "cell_type": "markdown",
   "id": "55b8f558",
   "metadata": {},
   "source": [
    "### 7. 모델 훈련하기\n",
    "\n",
    "\n",
    "( 에포크가 100이라 시간소요 상당함 )"
   ]
  },
  {
   "cell_type": "code",
   "execution_count": null,
   "id": "5c8aaa52",
   "metadata": {
    "scrolled": false
   },
   "outputs": [],
   "source": [
    "'''\n",
    "history = model.fit(train_generator,\n",
    "                    validation_data=validation_generator,\n",
    "                    steps_per_epoch=100,\n",
    "                    epochs=100,\n",
    "                    validation_steps=50,\n",
    "                    verbose=2)\n",
    "'''"
   ]
  },
  {
   "cell_type": "markdown",
   "id": "37e6b7ef",
   "metadata": {},
   "source": [
    "<font color='red'>\n",
    "\n",
    "* 학습속도가 너무 느려서 모델을 저장하고 다시 불러다 사용\n",
    "\n",
    "    저장하기 : model.save('./savedata/catndog.h5')\n",
    "\n",
    "    불어오기 : h5_model=tf.keras.models.load_model('./savedata/catndog.h5')\n",
    "    \n",
    "</font>    "
   ]
  },
  {
   "cell_type": "code",
   "execution_count": null,
   "id": "103619be",
   "metadata": {},
   "outputs": [],
   "source": [
    "# model.save('./savedata/catndog.h5')"
   ]
  },
  {
   "cell_type": "code",
   "execution_count": null,
   "id": "be8a6ce5",
   "metadata": {},
   "outputs": [],
   "source": [
    "h5_model=tf.keras.models.load_model('./savedata/catndog.h5')"
   ]
  },
  {
   "cell_type": "markdown",
   "id": "b4d529df",
   "metadata": {},
   "source": [
    "### 8. 정확도와 손실 확인하기\n",
    "\n",
    "훈련을 한 후에 그 결과로 history를 이용하는 것이라, 이미 저장된 h5 파일을 이용하면 아래 코드 사용 못함"
   ]
  },
  {
   "cell_type": "code",
   "execution_count": null,
   "id": "f983385c",
   "metadata": {},
   "outputs": [],
   "source": [
    "'''\n",
    "import matplotlib.pyplot as plt\n",
    "\n",
    "acc = history.history['accuracy']\n",
    "val_acc = history.history['val_accuracy']\n",
    "loss = history.history['loss']\n",
    "val_loss = history.history['val_loss']\n",
    "\n",
    "epochs = range(len(acc))\n",
    "\n",
    "plt.plot(epochs, acc, 'bo', label='Training accuracy')\n",
    "plt.plot(epochs, val_acc, 'b', label='Validation accuracy')\n",
    "plt.title('Training and validation accuracy')\n",
    "plt.legend()\n",
    "\n",
    "plt.figure()\n",
    "\n",
    "plt.plot(epochs, loss, 'go', label='Training Loss')\n",
    "plt.plot(epochs, val_loss, 'g', label='Validation Loss')\n",
    "plt.title('Training and validation loss')\n",
    "plt.legend()\n",
    "\n",
    "plt.show()\n",
    "'''"
   ]
  },
  {
   "cell_type": "markdown",
   "id": "597ae1cc",
   "metadata": {},
   "source": [
    "### 9. 테스트 이미지 분류하기"
   ]
  },
  {
   "cell_type": "code",
   "execution_count": null,
   "id": "06c7739d",
   "metadata": {},
   "outputs": [],
   "source": [
    "import numpy as np\n",
    "from tensorflow.keras.preprocessing import image\n",
    "\n",
    "# path='./dataset/cats_and_dogs_filtered/train/dogs/dog.4.jpg'\n",
    "# path='./dataset/cats_and_dogs_filtered/train/cats/cat.4.jpg'\n",
    "path='./imgs/cat.png'\n",
    "img=image.load_img(path, target_size=(150, 150))\n",
    "\n",
    "x=image.img_to_array(img)\n",
    "x=np.expand_dims(x, axis=0)\n",
    "images = np.vstack([x])\n",
    "\n",
    "# classes = model.predict(images, batch_size=10)\n",
    "# 저장된 h5 파일에서 읽은 모델 사용\n",
    "classes = h5_model.predict(images, batch_size=10)\n",
    "\n",
    "print(classes[0])\n",
    "\n",
    "if classes[0]>0:\n",
    "    print(\"The picture is a dog\")\n",
    "else:\n",
    "    print(\"The picture  is a cat\")"
   ]
  }
 ],
 "metadata": {
  "kernelspec": {
   "display_name": "Python 3 (ipykernel)",
   "language": "python",
   "name": "python3"
  },
  "language_info": {
   "codemirror_mode": {
    "name": "ipython",
    "version": 3
   },
   "file_extension": ".py",
   "mimetype": "text/x-python",
   "name": "python",
   "nbconvert_exporter": "python",
   "pygments_lexer": "ipython3",
   "version": "3.9.7"
  }
 },
 "nbformat": 4,
 "nbformat_minor": 5
}
