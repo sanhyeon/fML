{
 "cells": [
  {
   "cell_type": "markdown",
   "metadata": {},
   "source": [
    "# 분류 (classification)\n",
    "\n",
    "+ 머신러닝에서 회귀(regression)과 함께 가장 기본적인 데이타 분석 방법\n",
    "+ 분류는 데이타가 어느 범주(category)에 해당하는지 판단하는 것이다.\n",
    "\n",
    "\n",
    "## [1]  다항 분류"
   ]
  },
  {
   "cell_type": "code",
   "execution_count": 1,
   "metadata": {
    "scrolled": false
   },
   "outputs": [
    {
     "name": "stdout",
     "output_type": "stream",
     "text": [
      "(6497, 13)\n"
     ]
    },
    {
     "data": {
      "text/html": [
       "<div>\n",
       "<style scoped>\n",
       "    .dataframe tbody tr th:only-of-type {\n",
       "        vertical-align: middle;\n",
       "    }\n",
       "\n",
       "    .dataframe tbody tr th {\n",
       "        vertical-align: top;\n",
       "    }\n",
       "\n",
       "    .dataframe thead th {\n",
       "        text-align: right;\n",
       "    }\n",
       "</style>\n",
       "<table border=\"1\" class=\"dataframe\">\n",
       "  <thead>\n",
       "    <tr style=\"text-align: right;\">\n",
       "      <th></th>\n",
       "      <th>fixed acidity</th>\n",
       "      <th>volatile acidity</th>\n",
       "      <th>citric acid</th>\n",
       "      <th>residual sugar</th>\n",
       "      <th>chlorides</th>\n",
       "      <th>free sulfur dioxide</th>\n",
       "      <th>total sulfur dioxide</th>\n",
       "      <th>density</th>\n",
       "      <th>pH</th>\n",
       "      <th>sulphates</th>\n",
       "      <th>alcohol</th>\n",
       "      <th>quality</th>\n",
       "      <th>type</th>\n",
       "    </tr>\n",
       "  </thead>\n",
       "  <tbody>\n",
       "    <tr>\n",
       "      <th>6492</th>\n",
       "      <td>6.2</td>\n",
       "      <td>0.21</td>\n",
       "      <td>0.29</td>\n",
       "      <td>1.6</td>\n",
       "      <td>0.039</td>\n",
       "      <td>24.0</td>\n",
       "      <td>92.0</td>\n",
       "      <td>0.99114</td>\n",
       "      <td>3.27</td>\n",
       "      <td>0.50</td>\n",
       "      <td>11.2</td>\n",
       "      <td>6</td>\n",
       "      <td>0</td>\n",
       "    </tr>\n",
       "    <tr>\n",
       "      <th>6493</th>\n",
       "      <td>6.6</td>\n",
       "      <td>0.32</td>\n",
       "      <td>0.36</td>\n",
       "      <td>8.0</td>\n",
       "      <td>0.047</td>\n",
       "      <td>57.0</td>\n",
       "      <td>168.0</td>\n",
       "      <td>0.99490</td>\n",
       "      <td>3.15</td>\n",
       "      <td>0.46</td>\n",
       "      <td>9.6</td>\n",
       "      <td>5</td>\n",
       "      <td>0</td>\n",
       "    </tr>\n",
       "    <tr>\n",
       "      <th>6494</th>\n",
       "      <td>6.5</td>\n",
       "      <td>0.24</td>\n",
       "      <td>0.19</td>\n",
       "      <td>1.2</td>\n",
       "      <td>0.041</td>\n",
       "      <td>30.0</td>\n",
       "      <td>111.0</td>\n",
       "      <td>0.99254</td>\n",
       "      <td>2.99</td>\n",
       "      <td>0.46</td>\n",
       "      <td>9.4</td>\n",
       "      <td>6</td>\n",
       "      <td>0</td>\n",
       "    </tr>\n",
       "    <tr>\n",
       "      <th>6495</th>\n",
       "      <td>5.5</td>\n",
       "      <td>0.29</td>\n",
       "      <td>0.30</td>\n",
       "      <td>1.1</td>\n",
       "      <td>0.022</td>\n",
       "      <td>20.0</td>\n",
       "      <td>110.0</td>\n",
       "      <td>0.98869</td>\n",
       "      <td>3.34</td>\n",
       "      <td>0.38</td>\n",
       "      <td>12.8</td>\n",
       "      <td>7</td>\n",
       "      <td>0</td>\n",
       "    </tr>\n",
       "    <tr>\n",
       "      <th>6496</th>\n",
       "      <td>6.0</td>\n",
       "      <td>0.21</td>\n",
       "      <td>0.38</td>\n",
       "      <td>0.8</td>\n",
       "      <td>0.020</td>\n",
       "      <td>22.0</td>\n",
       "      <td>98.0</td>\n",
       "      <td>0.98941</td>\n",
       "      <td>3.26</td>\n",
       "      <td>0.32</td>\n",
       "      <td>11.8</td>\n",
       "      <td>6</td>\n",
       "      <td>0</td>\n",
       "    </tr>\n",
       "  </tbody>\n",
       "</table>\n",
       "</div>"
      ],
      "text/plain": [
       "      fixed acidity  volatile acidity  citric acid  residual sugar  chlorides  \\\n",
       "6492            6.2              0.21         0.29             1.6      0.039   \n",
       "6493            6.6              0.32         0.36             8.0      0.047   \n",
       "6494            6.5              0.24         0.19             1.2      0.041   \n",
       "6495            5.5              0.29         0.30             1.1      0.022   \n",
       "6496            6.0              0.21         0.38             0.8      0.020   \n",
       "\n",
       "      free sulfur dioxide  total sulfur dioxide  density    pH  sulphates  \\\n",
       "6492                 24.0                  92.0  0.99114  3.27       0.50   \n",
       "6493                 57.0                 168.0  0.99490  3.15       0.46   \n",
       "6494                 30.0                 111.0  0.99254  2.99       0.46   \n",
       "6495                 20.0                 110.0  0.98869  3.34       0.38   \n",
       "6496                 22.0                  98.0  0.98941  3.26       0.32   \n",
       "\n",
       "      alcohol  quality  type  \n",
       "6492     11.2        6     0  \n",
       "6493      9.6        5     0  \n",
       "6494      9.4        6     0  \n",
       "6495     12.8        7     0  \n",
       "6496     11.8        6     0  "
      ]
     },
     "execution_count": 1,
     "metadata": {},
     "output_type": "execute_result"
    }
   ],
   "source": [
    "# (1) 와인 데이터셋 불러오기\n",
    "import pandas as pd\n",
    "import pandas as pd\n",
    "wine = pd.read_csv('./dataset/wine.csv', header=None)\n",
    "wine.columns = ['fixed acidity','volatile acidity','citric acid','residual sugar','chlorides','free sulfur dioxide',\n",
    "               'total sulfur dioxide','density','pH','sulphates','alcohol','quality',\n",
    "               'type']\n",
    "print(wine.shape)\n",
    "wine.tail()"
   ]
  },
  {
   "cell_type": "code",
   "execution_count": 2,
   "metadata": {},
   "outputs": [
    {
     "name": "stdout",
     "output_type": "stream",
     "text": [
      "count    6497.000000\n",
      "mean        5.818378\n",
      "std         0.873255\n",
      "min         3.000000\n",
      "25%         5.000000\n",
      "50%         6.000000\n",
      "75%         6.000000\n",
      "max         9.000000\n",
      "Name: quality, dtype: float64\n",
      "6    2836\n",
      "5    2138\n",
      "7    1079\n",
      "4     216\n",
      "8     193\n",
      "3      30\n",
      "9       5\n",
      "Name: quality, dtype: int64\n"
     ]
    }
   ],
   "source": [
    "# (2-1) 품질 데이터 확인\n",
    "print(wine['quality'].describe())\n",
    "print(wine['quality'].value_counts())"
   ]
  },
  {
   "cell_type": "code",
   "execution_count": 3,
   "metadata": {},
   "outputs": [
    {
     "data": {
      "image/png": "[encoded data removed]",
      "text/plain": [
       "<Figure size 432x288 with 1 Axes>"
      ]
     },
     "metadata": {
      "needs_background": "light"
     },
     "output_type": "display_data"
    }
   ],
   "source": [
    "# [확인] 품질 히스토그램 시각화\n",
    "import matplotlib.pyplot as plt\n",
    "plt.hist(wine['quality'], bins=7, rwidth=0.8)\n",
    "plt.show()"
   ]
  },
  {
   "cell_type": "code",
   "execution_count": 4,
   "metadata": {},
   "outputs": [
    {
     "name": "stdout",
     "output_type": "stream",
     "text": [
      "count    6497.000000\n",
      "mean        0.829614\n",
      "std         0.731124\n",
      "min         0.000000\n",
      "25%         0.000000\n",
      "50%         1.000000\n",
      "75%         1.000000\n",
      "max         2.000000\n",
      "Name: new_quality, dtype: float64\n",
      "1.0    2836\n",
      "0.0    2384\n",
      "2.0    1277\n",
      "Name: new_quality, dtype: int64\n"
     ]
    }
   ],
   "source": [
    "# (2-2) 품질을 3개의 범주(좋음, 보통, 나쁨)로 재분류\n",
    "wine.loc[wine['quality'] <= 5, 'new_quality'] = 0\n",
    "wine.loc[wine['quality'] == 6, 'new_quality'] = 1\n",
    "wine.loc[wine['quality'] >= 7, 'new_quality'] = 2\n",
    "\n",
    "print(wine['new_quality'].describe())\n",
    "print(wine['new_quality'].value_counts())\n",
    "# value_counts() : 항목수를 확인하며 어느 항목의 수가 너무 많거나 작으면 분류가 안 될 수 있기에 확인"
   ]
  },
  {
   "cell_type": "code",
   "execution_count": 5,
   "metadata": {},
   "outputs": [],
   "source": [
    "# (3) 데이터 정규화 및 train, test 데이터 분리\n",
    "\n",
    "import tensorflow as tf\n",
    "\n",
    "# new_quality 항목으로 대치하고자 quality 항목은 삭제한다.\n",
    "del wine['quality']\n",
    "\n",
    "\n",
    "wine_norm = (wine - wine.min()) / (wine.max() - wine.min())\n",
    "wine_shuffle = wine_norm.sample(frac=1)\n",
    "wine_np = wine_shuffle.to_numpy()\n",
    "\n",
    "train_idx = int(len(wine_np) * 0.8)\n",
    "train_X, train_Y = wine_np[:train_idx, :-1], wine_np[:train_idx, -1]\n",
    "test_X, test_Y = wine_np[train_idx:, :-1], wine_np[train_idx:, -1]\n",
    "train_Y = tf.keras.utils.to_categorical(train_Y, num_classes=3)\n",
    "test_Y = tf.keras.utils.to_categorical(test_Y, num_classes=3)"
   ]
  },
  {
   "cell_type": "code",
   "execution_count": 6,
   "metadata": {},
   "outputs": [
    {
     "name": "stderr",
     "output_type": "stream",
     "text": [
      "C:\\Users\\simmi\\anaconda3\\lib\\site-packages\\tensorflow\\python\\keras\\optimizer_v2\\optimizer_v2.py:374: UserWarning: The `lr` argument is deprecated, use `learning_rate` instead.\n",
      "  warnings.warn(\n"
     ]
    },
    {
     "name": "stdout",
     "output_type": "stream",
     "text": [
      "Epoch 1/25\n",
      "122/122 [==============================] - 1s 3ms/step - loss: 0.4821 - accuracy: 0.7870 - val_loss: 0.4053 - val_accuracy: 0.8285\n",
      "Epoch 2/25\n",
      "122/122 [==============================] - 0s 2ms/step - loss: 0.4352 - accuracy: 0.8037 - val_loss: 0.3826 - val_accuracy: 0.8292\n",
      "Epoch 3/25\n",
      "122/122 [==============================] - 0s 2ms/step - loss: 0.4197 - accuracy: 0.8122 - val_loss: 0.3668 - val_accuracy: 0.8169\n",
      "Epoch 4/25\n",
      "122/122 [==============================] - 0s 2ms/step - loss: 0.4283 - accuracy: 0.7993 - val_loss: 0.3790 - val_accuracy: 0.8300\n",
      "Epoch 5/25\n",
      "122/122 [==============================] - 0s 1ms/step - loss: 0.4113 - accuracy: 0.8091 - val_loss: 0.3746 - val_accuracy: 0.8177\n",
      "Epoch 6/25\n",
      "122/122 [==============================] - 0s 1ms/step - loss: 0.4405 - accuracy: 0.8004 - val_loss: 0.3659 - val_accuracy: 0.8131\n",
      "Epoch 7/25\n",
      "122/122 [==============================] - 0s 1ms/step - loss: 0.4198 - accuracy: 0.7955 - val_loss: 0.3597 - val_accuracy: 0.8169\n",
      "Epoch 8/25\n",
      "122/122 [==============================] - 0s 1ms/step - loss: 0.4192 - accuracy: 0.7975 - val_loss: 0.3837 - val_accuracy: 0.8285\n",
      "Epoch 9/25\n",
      "122/122 [==============================] - 0s 1ms/step - loss: 0.4137 - accuracy: 0.7888 - val_loss: 0.3544 - val_accuracy: 0.8231\n",
      "Epoch 10/25\n",
      "122/122 [==============================] - 0s 1ms/step - loss: 0.4175 - accuracy: 0.8034 - val_loss: 0.3997 - val_accuracy: 0.8285\n",
      "Epoch 11/25\n",
      "122/122 [==============================] - 0s 1ms/step - loss: 0.4132 - accuracy: 0.8027 - val_loss: 0.3661 - val_accuracy: 0.8308\n",
      "Epoch 12/25\n",
      "122/122 [==============================] - 0s 1ms/step - loss: 0.4041 - accuracy: 0.8145 - val_loss: 0.3499 - val_accuracy: 0.8369\n",
      "Epoch 13/25\n",
      "122/122 [==============================] - 0s 1ms/step - loss: 0.4007 - accuracy: 0.8178 - val_loss: 0.4294 - val_accuracy: 0.8031\n",
      "Epoch 14/25\n",
      "122/122 [==============================] - 0s 1ms/step - loss: 0.4071 - accuracy: 0.8073 - val_loss: 0.3822 - val_accuracy: 0.8269\n",
      "Epoch 15/25\n",
      "122/122 [==============================] - 0s 1ms/step - loss: 0.4087 - accuracy: 0.8047 - val_loss: 0.3507 - val_accuracy: 0.8377\n",
      "Epoch 16/25\n",
      "122/122 [==============================] - 0s 1ms/step - loss: 0.4023 - accuracy: 0.8122 - val_loss: 0.3509 - val_accuracy: 0.8346\n",
      "Epoch 17/25\n",
      "122/122 [==============================] - 0s 1ms/step - loss: 0.4000 - accuracy: 0.8140 - val_loss: 0.3533 - val_accuracy: 0.8323\n",
      "Epoch 18/25\n",
      "122/122 [==============================] - 0s 1ms/step - loss: 0.3962 - accuracy: 0.8155 - val_loss: 0.3510 - val_accuracy: 0.8323\n",
      "Epoch 19/25\n",
      "122/122 [==============================] - 0s 1ms/step - loss: 0.4072 - accuracy: 0.8034 - val_loss: 0.3619 - val_accuracy: 0.8092\n",
      "Epoch 20/25\n",
      "122/122 [==============================] - 0s 1ms/step - loss: 0.4012 - accuracy: 0.8101 - val_loss: 0.3577 - val_accuracy: 0.8285\n",
      "Epoch 21/25\n",
      "122/122 [==============================] - 0s 1ms/step - loss: 0.3995 - accuracy: 0.8096 - val_loss: 0.3507 - val_accuracy: 0.8308\n",
      "Epoch 22/25\n",
      "122/122 [==============================] - 0s 1ms/step - loss: 0.4133 - accuracy: 0.8055 - val_loss: 0.3518 - val_accuracy: 0.8285\n",
      "Epoch 23/25\n",
      "122/122 [==============================] - 0s 1ms/step - loss: 0.4065 - accuracy: 0.7921 - val_loss: 0.3550 - val_accuracy: 0.8285\n",
      "Epoch 24/25\n",
      "122/122 [==============================] - 0s 1ms/step - loss: 0.4109 - accuracy: 0.7960 - val_loss: 0.3483 - val_accuracy: 0.8285\n",
      "Epoch 25/25\n",
      "122/122 [==============================] - 0s 1ms/step - loss: 0.4123 - accuracy: 0.7978 - val_loss: 0.3819 - val_accuracy: 0.8192\n"
     ]
    }
   ],
   "source": [
    "# (4) 와인 데이터셋 다항 분류 모델 생성 및 학습\n",
    "#     마지막 레이어의 뉴런수가 3이다 ( new_quality=[0,1,2]) \n",
    "\n",
    "model = tf.keras.Sequential([\n",
    "    tf.keras.layers.Dense(units=48, activation='relu', input_shape=(12,)),\n",
    "    tf.keras.layers.Dense(units=24, activation='relu'),\n",
    "    tf.keras.layers.Dense(units=12, activation='relu'),\n",
    "    tf.keras.layers.Dense(units=3, activation='softmax')\n",
    "])\n",
    "\n",
    "model.compile(optimizer=tf.keras.optimizers.Adam(lr=0.07), loss='categorical_crossentropy', metrics=['accuracy'])\n",
    "\n",
    "history = model.fit(train_X, train_Y, epochs=25, batch_size=32, validation_split=0.25)\n",
    "\n",
    "# [결과]\n",
    "# Epoch 25/25\n",
    "# 3897/3897 [==============================] - 0s 72us/sample - loss: 0.4110 - accuracy: 0.8052 - val_loss: 0.4051 - val_accuracy: 0.8023\n",
    "# 약 80% 정도의 정확도이다."
   ]
  },
  {
   "cell_type": "code",
   "execution_count": 7,
   "metadata": {},
   "outputs": [
    {
     "data": {
      "image/png": "[encoded data removed]",
      "text/plain": [
       "<Figure size 864x288 with 2 Axes>"
      ]
     },
     "metadata": {
      "needs_background": "light"
     },
     "output_type": "display_data"
    }
   ],
   "source": [
    "# [확인] 다항 분류 모델 학습 결과 시각화\n",
    "import matplotlib.pyplot as plt\n",
    "plt.figure(figsize=(12, 4))\n",
    "\n",
    "plt.subplot(1, 2, 1)\n",
    "plt.plot(history.history['loss'], 'b-', label='loss')\n",
    "plt.plot(history.history['val_loss'], 'r--', label='val_loss')\n",
    "plt.xlabel('Epoch')\n",
    "plt.legend()\n",
    "\n",
    "plt.subplot(1, 2, 2)\n",
    "plt.plot(history.history['accuracy'], 'g-', label='accuracy')\n",
    "plt.plot(history.history['val_accuracy'], 'k--', label='val_accuracy')\n",
    "plt.xlabel('Epoch')\n",
    "plt.ylim(0.7, 1)\n",
    "plt.legend()\n",
    "\n",
    "plt.show()"
   ]
  },
  {
   "cell_type": "code",
   "execution_count": 8,
   "metadata": {},
   "outputs": [
    {
     "name": "stdout",
     "output_type": "stream",
     "text": [
      "41/41 [==============================] - 0s 2ms/step - loss: 0.4160 - accuracy: 0.8223\n"
     ]
    },
    {
     "data": {
      "text/plain": [
       "[0.4160307049751282, 0.8223077058792114]"
      ]
     },
     "execution_count": 8,
     "metadata": {},
     "output_type": "execute_result"
    }
   ],
   "source": [
    "# (5) 다항 분류 모델 평가\n",
    "model.evaluate(test_X, test_Y)\n",
    "\n",
    "# 이번에 테스트 데이트로 평가한 정확도와 위에서 검증 데이타의 정확도 80% 와 비교한다.\n",
    "# 물론 여기서 더 좋은 성과를 내기 위해 다방면으로 노력해야 한다"
   ]
  },
  {
   "cell_type": "code",
   "execution_count": null,
   "metadata": {},
   "outputs": [],
   "source": []
  }
 ],
 "metadata": {
  "kernelspec": {
   "display_name": "Python 3",
   "language": "python",
   "name": "python3"
  },
  "language_info": {
   "codemirror_mode": {
    "name": "ipython",
    "version": 3
   },
   "file_extension": ".py",
   "mimetype": "text/x-python",
   "name": "python",
   "nbconvert_exporter": "python",
   "pygments_lexer": "ipython3",
   "version": "3.8.8"
  }
 },
 "nbformat": 4,
 "nbformat_minor": 4
}
